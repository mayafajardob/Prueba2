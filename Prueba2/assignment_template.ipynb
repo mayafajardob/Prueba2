{
  "nbformat": 4,
  "nbformat_minor": 0,
  "metadata": {
    "kernelspec": {
      "display_name": "Python 3",
      "language": "python",
      "name": "python3"
    },
    "language_info": {
      "codemirror_mode": {
        "name": "ipython",
        "version": 3
      },
      "file_extension": ".py",
      "mimetype": "text/x-python",
      "name": "python",
      "nbconvert_exporter": "python",
      "pygments_lexer": "ipython3",
      "version": "3.7.1"
    },
    "toc": {
      "base_numbering": 1,
      "nav_menu": {},
      "number_sections": true,
      "sideBar": true,
      "skip_h1_title": false,
      "title_cell": "Table of Contents",
      "title_sidebar": "Contents",
      "toc_cell": false,
      "toc_position": {},
      "toc_section_display": true,
      "toc_window_display": true
    },
    "colab": {
      "name": "Copia de assignment_template.ipynb",
      "provenance": [],
      "collapsed_sections": [],
      "toc_visible": true,
      "include_colab_link": true
    }
  },
  "cells": [
    {
      "cell_type": "markdown",
      "metadata": {
        "id": "view-in-github",
        "colab_type": "text"
      },
      "source": [
        "<a href=\"https://colab.research.google.com/github/mayafajardob/AEA1/blob/master/assignment_template.ipynb\" target=\"_parent\"><img src=\"https://colab.research.google.com/assets/colab-badge.svg\" alt=\"Open In Colab\"/></a>"
      ]
    },
    {
      "cell_type": "markdown",
      "metadata": {
        "id": "prXU5my7K68E",
        "colab_type": "text"
      },
      "source": [
        "Before you turn this problem in, make sure everything runs as expected. First, **restart the kernel** (in the menubar, select Kernel$\\rightarrow$Restart) and then **run all cells** (in the menubar, select Cell$\\rightarrow$Run All).\n",
        "\n",
        "Make sure you fill in any place that says `YOUR CODE HERE` or \"YOUR ANSWER HERE\", as well as your name and collaborators below:"
      ]
    },
    {
      "cell_type": "code",
      "metadata": {
        "id": "Lzg0ZRKdK68H",
        "colab_type": "code",
        "colab": {}
      },
      "source": [
        "NAME = \"Is there a gender education gap in Colombia? A socioeconomic analysis from Saber 11 test results.\"\n",
        "COLLABORATORS = \"Marina Diez, Maria Fajardo\""
      ],
      "execution_count": 0,
      "outputs": []
    },
    {
      "cell_type": "markdown",
      "metadata": {
        "id": "fhpmTS_BK68L",
        "colab_type": "text"
      },
      "source": [
        "---"
      ]
    },
    {
      "cell_type": "markdown",
      "metadata": {
        "id": "TPOmqfDIK68N",
        "colab_type": "text"
      },
      "source": [
        "# Is there a gender education gap in Colombia? A socioeconomic analysis from Saber 11 test results.\n",
        "\n",
        "|Name|SNR|UNR|\n",
        "|----|---|----|\n",
        "|Marina Diez|2006191|u618360|\n",
        "|Maria Fajardo|2045454|u484321|"
      ]
    },
    {
      "cell_type": "markdown",
      "metadata": {
        "id": "TNZYBqSIK68O",
        "colab_type": "text"
      },
      "source": [
        "# Research question"
      ]
    },
    {
      "cell_type": "markdown",
      "metadata": {
        "deletable": false,
        "nbgrader": {
          "checksum": "b350c3082e112a5b2f1f6db0481fa5bd",
          "grade": true,
          "grade_id": "cell-7a61a5e9e6991ff4",
          "locked": false,
          "points": 0.5,
          "schema_version": 1,
          "solution": true
        },
        "id": "NQJYg4irK68Q",
        "colab_type": "text"
      },
      "source": [
        "This project will test for the existence of a gender gap in school performance at the nationwide standarized *Saber 11* test in Colombia. Particularly, this project is inspired in a previous study developed by Abadía and Bernal (2016), “*Gender Gaps in School Performance Through the Score Distribution: Evidence of the Saber 11 Test.*”, which tested for the gap for the year 2014 cohort. The present project will update said study and test for the gap for the year 2019 cohort. Additionally, it will explore whether the gap varies among students on different quartiles of the sample. \n"
      ]
    },
    {
      "cell_type": "markdown",
      "metadata": {
        "id": "J9afjhmRK68R",
        "colab_type": "text"
      },
      "source": [
        "# Motivation"
      ]
    },
    {
      "cell_type": "markdown",
      "metadata": {
        "id": "lYC-5mTw63w_",
        "colab_type": "text"
      },
      "source": [
        "In 2010, the Colombian Government, along with the Ministry of Education, created the Ten-Year Education Plan, in which they stablished that Colombia would be the best educated country in Latin America by 2025. Being the best educated country not only implies an increase in educational assessments scores, but also equal opportunities for all members of the educational system.\n",
        "\n",
        "Thus, one of its main goals was to ensure an equal access to higher education between girls and boys. In Colombia, access to higher education is partially based on Saber 11 results. Thus, a way to guarantee gender equality on higher education access could be via school performance on this test. Additionally, the abatement of gender differences at school levels could lead to a more equal access and success in the labour market in future years. In turn, women could have access to higher wages and achieve a higher economic status. All of them, contribute to the achievement of international goals of gender equality. \n",
        "\n",
        "By means of this project, we aim to contribute to the short literature about the variables that affect the gender education gap. More specifically, the present project will answer the following questions:\n",
        "\n",
        "  - Does a gender education gap exist in school performance among students in Colombia?\n",
        "\n",
        "  - If so: \n",
        "      -  Does it vary with  personal, familiar or scholar student's characteristics? \n",
        "      - How does the gap behave along the score's distribution?"
      ]
    },
    {
      "cell_type": "markdown",
      "metadata": {
        "id": "fSLjMq14K68T",
        "colab_type": "text"
      },
      "source": [
        "# Method"
      ]
    },
    {
      "cell_type": "markdown",
      "metadata": {
        "deletable": false,
        "nbgrader": {
          "checksum": "ab93f4d26eb3e0bcf88927ee71df6b63",
          "grade": true,
          "grade_id": "cell-3d71712c92143820",
          "locked": false,
          "points": 0.5,
          "schema_version": 1,
          "solution": true
        },
        "id": "TiwA8EP8K68S",
        "colab_type": "text"
      },
      "source": [
        "This project is divided in two parts. First, we show a descriptive analysis of the data of interest by finding its main indicators and analysing its distribution. Second we statically find the gender education gap and perform a regression analysis. We based our analysis on two linear models: a simple OLS regression and a Quantil regression (QR). "
      ]
    },
    {
      "cell_type": "markdown",
      "metadata": {
        "id": "Fx8nCe9VK68U",
        "colab_type": "text"
      },
      "source": [
        "# Preview of the answers"
      ]
    },
    {
      "cell_type": "markdown",
      "metadata": {
        "deletable": false,
        "nbgrader": {
          "checksum": "938eb25dc709a2252d7013dc1cd8176a",
          "grade": true,
          "grade_id": "cell-1b3df4385bba508d",
          "locked": false,
          "points": 0.5,
          "schema_version": 1,
          "solution": true
        },
        "id": "hSMx2DNoK68V",
        "colab_type": "text"
      },
      "source": [
        "- The results obtained indicate that there is an academic gap between boys and girls with similar socioeconomic conditions in Global, Reading, Math and Science scores, and that those differences expand as the scores increase.\n",
        "- Socioeconomic, familiar and school characteristics have been found to explain part of this variation.\n",
        "\n",
        "\n",
        "\n"
      ]
    },
    {
      "cell_type": "markdown",
      "metadata": {
        "id": "yFPDVj3xK68W",
        "colab_type": "text"
      },
      "source": [
        "# Main assumptions"
      ]
    },
    {
      "cell_type": "markdown",
      "metadata": {
        "deletable": false,
        "nbgrader": {
          "checksum": "2e95c3f2ef005a63968a0ade420f5af7",
          "grade": true,
          "grade_id": "cell-d84f19967b2baa1d",
          "locked": false,
          "points": 0.5,
          "schema_version": 1,
          "solution": true
        },
        "id": "JDNQcdExK68X",
        "colab_type": "text"
      },
      "source": [
        "First, we base our regression analysis on the education production function from Hanushek (1979). We follow Abadía and Bernal (2016) on this matter. This specification considers as inputs student’s attributes, familiar characteristics and school resources. Meanwhile, the output is defined as student’s performance. Given our data, we have chosen four different outcome variables based on four different scores: Global, Reading, Math and Science scores on Saber 11 test. \n",
        "\n",
        "Second,  we need to assume the classical regression assumptions: \n",
        "  \n",
        "- The regression model is linear in the coefficients and the error term.  \n",
        "- All independent variables are uncorrelated with the error term. \n",
        "- The error term is well behaved i.e. it has a mean of zero and a constant variance.\n",
        "- Observations of the error term are uncorrelated with each other\n",
        "- No independent variable is a perfect linear funcion of other explanatory variables\n",
        "\n"
      ]
    },
    {
      "cell_type": "markdown",
      "metadata": {
        "id": "hBQ4mtv_K68X",
        "colab_type": "text"
      },
      "source": [
        "#Data\n",
        "\n",
        "This study makes use of the data on results of the 2019 application of “*Saber 11*”, a nationwide standardized test done by last year high school students in Colombia. The test contains both a cognitive and a contextual questionnaire. In the first one, students are asked for their knowledge in Reading, Math, Science, Social and Citizenship and English. The contextual part, ask the students about other personal, familiar and scholar characteristics. For the purpose of this project, we are using the reading, math and science scores, along with some of the variables of the contextual questionnaire.\n",
        " \n",
        "\n",
        "The test is administered by the Colombian Institute for Evaluation of Education - Icfes. The database can be found and downloaded on their webpage. It can also be found on our repository (INSERT LINK)\n",
        "Among all the variables available on the original database, we have only made use of some variables of interest which consist of the final database. They can be divided into the 3 previously mentioned groups:\n",
        " \n",
        "1.\tPersonal characteristics variables:\n",
        "\n",
        "  a.\tGlobal Score: weighted average of the subjects asked in the contextual questionnaire.\n",
        "  \n",
        "  b.\tScores on Reading, Math and Science\n",
        "  \n",
        "  c.\tSex \n",
        "\n",
        "  d.\tYear of birth \n",
        "2.\tFamiliar characteristics variables: \n",
        "\n",
        "  a.\tParents level of education\n",
        "\n",
        "  b.\tFamily Stratum\n",
        "3.\tScholar characteristics variables: \n",
        "\n",
        "  a.\tSchool Area\n",
        "\n",
        "  b.\tSchool Funding\n",
        "\n",
        "\n",
        "\n",
        "\n",
        "\n"
      ]
    },
    {
      "cell_type": "markdown",
      "metadata": {
        "id": "7GqZ2kY5K68Y",
        "colab_type": "text"
      },
      "source": [
        "### **PREPARE THE WORKING ENVIRONMENT**\n",
        "\n",
        "First, we load and read the database and import the libreries needed.\n"
      ]
    },
    {
      "cell_type": "code",
      "metadata": {
        "id": "c2HY6fhPUA1U",
        "colab_type": "code",
        "outputId": "82213129-994d-4c2c-b93b-a13f947d932f",
        "colab": {
          "base_uri": "https://localhost:8080/",
          "height": 34
        }
      },
      "source": [
        "#Connect Google Drive (on when on Google Collab)\n",
        "#from google.colab import drive\n",
        "#drive.mount('/content/drive')"
      ],
      "execution_count": 0,
      "outputs": [
        {
          "output_type": "stream",
          "text": [
            "Drive already mounted at /content/drive; to attempt to forcibly remount, call drive.mount(\"/content/drive\", force_remount=True).\n"
          ],
          "name": "stdout"
        }
      ]
    },
    {
      "cell_type": "code",
      "metadata": {
        "id": "bYKQVWjmuOcG",
        "colab_type": "code",
        "colab": {}
      },
      "source": [
        "#Unzip database from GitHub Repo (on when on Jupyter Lab)\n",
        "\n",
        "import zipfile\n",
        "with zipfile.ZipFile('Saber_11__2019-2.csv.zip', 'r') as zip_ref:\n",
        "    zip_ref.extractall()"
      ],
      "execution_count": 0,
      "outputs": []
    },
    {
      "cell_type": "code",
      "metadata": {
        "deletable": false,
        "nbgrader": {
          "checksum": "3dd4c02198f7b81f943268cb3d0a12b2",
          "grade": true,
          "grade_id": "cell-a2231ee7e6d4e686",
          "locked": false,
          "points": 7,
          "schema_version": 1,
          "solution": true
        },
        "id": "DKh8UBYiK68Z",
        "colab_type": "code",
        "colab": {}
      },
      "source": [
        "#General libraries\n",
        "import pandas as pd\n",
        "import matplotlib.pyplot as plt\n",
        "import statistics as stat\n",
        "import numpy as np\n",
        "import seaborn as sns\n",
        "import statsmodels.api as sm\n",
        "import statsmodels.formula.api as smf\n",
        "from scipy import stats\n",
        "from scipy.stats import ttest_ind\n",
        "from scipy.special import stdtr\n",
        "#import html5lib\n",
        "\n",
        "#Regression libraries\n",
        "import statsmodels.api as sm\n",
        "import statsmodels.formula.api as smf"
      ],
      "execution_count": 0,
      "outputs": []
    },
    {
      "cell_type": "code",
      "metadata": {
        "id": "B3H_AumHjxpk",
        "colab_type": "code",
        "outputId": "52a4852a-2ada-4017-bf19-085bb58a080d",
        "colab": {
          "base_uri": "https://localhost:8080/",
          "height": 72
        }
      },
      "source": [
        "#Read Data Base from Google Drive\n",
        "#s11_20192 = pd.read_csv('drive/My Drive/AEA1/Data/Saber_11__2019-2.csv', sep = ',')\n",
        "\n",
        "#Read Database from repo\n",
        "s11_20192 = pd.read_csv('Saber_11__2019-2.csv', sep = ',')\n",
        "#s11_20192.head(1)"
      ],
      "execution_count": 0,
      "outputs": [
        {
          "output_type": "stream",
          "text": [
            "/usr/local/lib/python3.6/dist-packages/IPython/core/interactiveshell.py:2718: DtypeWarning: Columns (76,78) have mixed types. Specify dtype option on import or set low_memory=False.\n",
            "  interactivity=interactivity, compiler=compiler, result=result)\n"
          ],
          "name": "stderr"
        }
      ]
    },
    {
      "cell_type": "markdown",
      "metadata": {
        "id": "DuAL4lLSraMR",
        "colab_type": "text"
      },
      "source": [
        "### **PREPARE THE DATA**"
      ]
    },
    {
      "cell_type": "markdown",
      "metadata": {
        "id": "GA6ORhuaJQcM",
        "colab_type": "text"
      },
      "source": [
        "The original data base contains the information of 546.212 students and 82 variables for each one of them. As this database has many variables and goes beyond the scope of this project, we extract and prepare the variables of interest for the present project, and we create a new database with such observations.  \n",
        "\n",
        "Thus, the function `get_data_into_shape` does the following:\n",
        "\n",
        "1. Translate from Spanish to English the name of the variables of interest\n",
        "2. Create a dataframe containing only the variables of interest\n",
        "3. Standarize the codification of missing values to `np.nan`: NaN\n",
        "4. Set the following variables into a category:\n",
        "- Student gender: `stuSex`\n",
        "- Father and Mother level of education: `famFatherEduc` and `famMotherEduc`\n",
        "- Family stratum: `famHomeStratum`\n",
        "- School funding: `schoolFunding`\n",
        "- School area: `schoolArea`\n",
        "5. Set the variable `stuDateOfBirth` as string so that we could find the age of the student `stuAge` in a next chunk.\n",
        "6. Set the variables of the assessment score percentiles (`stuGlobalScorePErcentile`, `readingScorePercentile`, `mathScorePercentile` and `scienceScorePercentile`) as float in order to create new variables with quartiles for the quantile regression.\n",
        "7. Finally, the function returns this new dataframe."
      ]
    },
    {
      "cell_type": "code",
      "metadata": {
        "id": "CVpdxKofqAyy",
        "colab_type": "code",
        "outputId": "14c70585-9736-4018-99fa-88928e1c1691",
        "colab": {
          "base_uri": "https://localhost:8080/",
          "height": 52
        }
      },
      "source": [
        "#Number of observations\n",
        "print('Number of observations:',s11_20192.shape[0])\n",
        "print('Number of variables:',s11_20192.shape[1])"
      ],
      "execution_count": 0,
      "outputs": [
        {
          "output_type": "stream",
          "text": [
            "Number of observations: 546212\n",
            "Number of variables: 82\n"
          ],
          "name": "stdout"
        }
      ]
    },
    {
      "cell_type": "code",
      "metadata": {
        "id": "1nMGaJH8j37B",
        "colab_type": "code",
        "colab": {}
      },
      "source": [
        "#Getting data into shape\n",
        "def get_data_into_shape(df):\n",
        "    df = df.rename({\n",
        "      #Personal characteristics\n",
        "      'ESTU_GENERO' : 'stuSex',\n",
        "      'ESTU_FECHANACIMIENTO' : 'stuDateOfBirth',\n",
        "      'PUNT_GLOBAL': 'stuGlobalScore',\n",
        "      'PERCENTIL_GLOBAL': 'globalPercentile',\n",
        "      'PUNT_LECTURA_CRITICA': 'readingScore',\n",
        "      'PERCENTIL_LECTURA_CRITICA' : 'readingPercentile',\n",
        "      'PUNT_MATEMATICAS':'mathScore',\n",
        "      'PERCENTIL_MATEMATICAS' : 'mathPercentile',\n",
        "      'PUNT_C_NATURALES':'scienceScore',\n",
        "      'PERCENTIL_C_NATURALES' : 'sciencePercentile',\n",
        "       \n",
        "      #Family characteristics\n",
        "      'FAMI_EDUCACIONPADRE': 'famFatherEduc',\n",
        "      'FAMI_EDUCACIONMADRE': 'famMotherEduc',\n",
        "      'FAMI_ESTRATOVIVIENDA': 'famHomeStratum',\n",
        "\n",
        "      #School characteristics\n",
        "      'COLE_NATURALEZA' : 'schoolFunding',\n",
        "      'COLE_CALENDARIO' : 'schoolCalendar',\n",
        "      'COLE_AREA_UBICACION' : 'schoolArea',\n",
        "\n",
        "      #Departments\n",
        "      'ESTU_DEPTO_RESIDE' : 'stuDepartment',\n",
        "      'ESTU_COD_RESIDE_DEPTO' : 'stuDepartmentId'}, axis = 'columns')\n",
        "    \n",
        "    df1 = df[['stuSex', 'stuDateOfBirth', 'stuGlobalScore', 'readingScore',\n",
        "              'mathScore', 'scienceScore','famFatherEduc', 'famMotherEduc',\n",
        "              'famHomeStratum', 'schoolFunding', 'schoolCalendar',\n",
        "              'schoolArea', 'globalPercentile','sciencePercentile',\n",
        "              'readingPercentile','mathPercentile']]\n",
        "    \n",
        "    #Unify NaN\n",
        "    df1['stuSex'] = df1['stuSex'].replace('-', np.nan)\n",
        "    df1['globalPercentile'] = df1['globalPercentile'].replace('-', np.nan)\n",
        "    df1['sciencePercentile'] = df1['sciencePercentile'].replace('-', np.nan)\n",
        "    df1['readingPercentile'] = df1['readingPercentile'].replace('-', np.nan)\n",
        "    df1['mathPercentile'] = df1['mathPercentile'].replace('-', np.nan)\n",
        "    df1['stuDateOfBirth'] = df1['stuDateOfBirth'].replace('-', np.nan)\n",
        "    df1['famFatherEduc'] = df1['famFatherEduc'].replace('-', np.nan)\n",
        "    df1['famMotherEduc'] = df1['famMotherEduc'].replace('-', np.nan)\n",
        "    df1['famHomeStratum'] = df1['famHomeStratum'].replace('-', np.nan)\n",
        "    df1['schoolFunding'] = df1['schoolFunding'].replace('-', np.nan)\n",
        "    df1['schoolCalendar'] = df1['schoolCalendar'].replace('-', np.nan)\n",
        "    df1['schoolArea'] = df1['schoolArea'].replace('-', np.nan)\n",
        "\n",
        "    #Replace some categories for NaN\n",
        "    ##Family Stratum\n",
        "    df1['famHomeStratum'].value_counts()\n",
        "    df1['famHomeStratum'] = df1['famHomeStratum'].replace('Sin Estrato', np.nan)\n",
        "            \n",
        "    ##Father Education\n",
        "    df1['famFatherEduc'].value_counts()\n",
        "    df1['famFatherEduc'] = df1['famFatherEduc'].replace('No Aplica', np.nan)\n",
        "    #df1['famFatherEduc'] = df1['famFatherEduc'].replace('No sabe', np.nan)\n",
        "    \n",
        "    ##Mother Education\n",
        "    df1['famMotherEduc'].value_counts()\n",
        "    df1['famMotherEduc'] = df1['famMotherEduc'].replace('No Aplica', np.nan)\n",
        "    #df1['famMotherEduc'] = df1['famMotherEduc'].replace('No sabe', np.nan)\n",
        "    \n",
        "    #Variables type\n",
        "    df1['stuSex'] = df1['stuSex'].astype('category')\n",
        "    df1['globalPercentile'] = df1['globalPercentile'].astype(float)\n",
        "    df1['sciencePercentile'] = df1['sciencePercentile'].astype(float)\n",
        "    df1['readingPercentile'] = df1['readingPercentile'].astype(float)\n",
        "    df1['mathPercentile'] = df1['mathPercentile'].astype(float)\n",
        "    df1['stuDateOfBirth'] = df1['stuDateOfBirth'].astype(str)\n",
        "    df1['famFatherEduc'] = df1['famFatherEduc'].astype('category')\n",
        "    df1['famMotherEduc'] = df1['famMotherEduc'].astype('category')\n",
        "    df1['famHomeStratum'] = df1['famHomeStratum'].astype('category', ord)\n",
        "    df1['schoolFunding'] = df1['schoolFunding'].astype('category')\n",
        "    df1['schoolCalendar'] = df1['schoolCalendar'].astype('category', ord)\n",
        "    df1['schoolArea'] = df1['schoolArea'].astype('category')\n",
        "\n",
        "    return df1\n",
        "\n",
        "s11_20192 = get_data_into_shape(s11_20192)\n",
        "#s11_20192.head(1)"
      ],
      "execution_count": 0,
      "outputs": []
    },
    {
      "cell_type": "markdown",
      "metadata": {
        "colab_type": "text",
        "id": "dE44VO9kXK8k"
      },
      "source": [
        "#### *Cleaning the data*\n",
        "\n",
        "Next, we proceed to clean the database following a criteria of representativity. First, and based on Abadía and Bernal (2016), we exclude students younger than 14 years old and older than 21 years old in order to have a more homogeneous sample. The code to delete these observations is shown below:"
      ]
    },
    {
      "cell_type": "code",
      "metadata": {
        "id": "XQCdDJRYOslO",
        "colab_type": "code",
        "colab": {}
      },
      "source": [
        "#Calculate students age\n",
        "DOB = s11_20192.stuDateOfBirth.str.split(\" \").str[0]\n",
        "stuYearOfBirth = DOB.str.split(\"/\").str[2]\n",
        "stuYearOfBirth = stuYearOfBirth.astype(int)\n",
        "stuAge = 2019-stuYearOfBirth\n",
        "\n",
        "s11_20192['stuAge'] = stuAge\n",
        "s11_20192.head(1)\n",
        "\n",
        "#Delete stuAge < 14 and stuAge > 21\n",
        "ageLess14 = s11_20192[s11_20192['stuAge']<14].index\n",
        "s11_20192.drop(ageLess14,inplace=True)\n",
        "\n",
        "ageMore21 = s11_20192[s11_20192['stuAge']>21].index\n",
        "s11_20192.drop(ageMore21,inplace=True)"
      ],
      "execution_count": 0,
      "outputs": []
    },
    {
      "cell_type": "markdown",
      "metadata": {
        "id": "ICebMSfBQSmd",
        "colab_type": "text"
      },
      "source": [
        "Second, we should consider the two main academic calendars existing in the Colombian education system:\n",
        "1. \"A\" or south calendar, in which schools start the academic year in February and end it in December.\n",
        "2. \"B\" or north calendar, in which they start the academic year in August and end it in May.\n",
        "\n",
        "Abadía and Bernal (2016), did not include calendar B students as they only represented 5 % of the students. In our case, this group represents a share of  0.18 %. Moreover, Abadía and Bernal (2016) pointed that in many cases these students have better socioeconomic conditions than those in calendar A and they do not representate the whole population. \n",
        "\n",
        "Aditionally in Colombia there is also a third calendar followed by adult people pursuing higher education or students in an accelerated secondary school. The original database includes this category in the `schoolCalendar` variable  as \"OTHER\". As in calendar B, these students correspond to a small share of the population (0.45 %). Hence, they were also excluded from the sample. \n",
        "\n"
      ]
    },
    {
      "cell_type": "code",
      "metadata": {
        "id": "2vCkaHC5iFR0",
        "colab_type": "code",
        "outputId": "282b8097-c510-468d-a6f3-edddb4b131aa",
        "colab": {
          "base_uri": "https://localhost:8080/",
          "height": 52
        }
      },
      "source": [
        "#Percentage of students in calendar B en 2019\n",
        "percentageStuCalendarB = s11_20192.query('schoolCalendar == \"B\"')\\\n",
        "  ['stuGlobalScore'].count()/s11_20192.schoolCalendar.count()\n",
        "\n",
        "print('Students in calendar B correspond to', \n",
        "      round(percentageStuCalendarB*100, 2), '% of the sample.' )\n",
        "\n",
        "\n",
        "#Percentaje of students in \"Other\" calendar in 2019\n",
        "percentageStuCalendarOther = s11_20192.query('schoolCalendar == \"OTRO\"')\\\n",
        "  ['stuGlobalScore'].count()/s11_20192.schoolCalendar.count()\n",
        "\n",
        "print('Students in calendar \"OTHER\" correspond to',\n",
        "      round(percentageStuCalendarOther*100, 2), '% of the sample.' )"
      ],
      "execution_count": 0,
      "outputs": [
        {
          "output_type": "stream",
          "text": [
            "Students in calendar B correspond to 0.18 % of the sample.\n",
            "Students in calendar \"OTHER\" correspond to 0.45 % of the sample.\n"
          ],
          "name": "stdout"
        }
      ]
    },
    {
      "cell_type": "markdown",
      "metadata": {
        "id": "cSvgZjSpnu-a",
        "colab_type": "text"
      },
      "source": [
        "Thus, we proceed to exclude those observations from the sample. "
      ]
    },
    {
      "cell_type": "code",
      "metadata": {
        "id": "FhPK0Re6h3uY",
        "colab_type": "code",
        "outputId": "664ca5b5-c471-4177-d20b-c3dac799bcd6",
        "colab": {
          "base_uri": "https://localhost:8080/",
          "height": 52
        }
      },
      "source": [
        "#Drop schools with calendar B and \"OTHER\"\n",
        "s11_20192.drop(s11_20192[s11_20192['schoolCalendar']!= 'A'].index,inplace= True)\n",
        "\n",
        "print('Number of observations:',s11_20192.shape[0])\n",
        "print('Number of variables:',s11_20192.shape[1])"
      ],
      "execution_count": 0,
      "outputs": [
        {
          "output_type": "stream",
          "text": [
            "Number of observations: 518118\n",
            "Number of variables: 17\n"
          ],
          "name": "stdout"
        }
      ]
    },
    {
      "cell_type": "markdown",
      "metadata": {
        "id": "dlvRwahmd-GZ",
        "colab_type": "text"
      },
      "source": [
        "After deleting these observations, the database now contains the information of 518.118 students and 17 variables per each."
      ]
    },
    {
      "cell_type": "markdown",
      "metadata": {
        "id": "Bnqm8OrCpOKS",
        "colab_type": "text"
      },
      "source": [
        "#### *Missing values*\n",
        "\n",
        "It is important to assure that the principal variables `stuSex`, `stuGlobalScore`, `readingScore`, `mathScore` and `scienceScore` have not missing values. If so, those observations need to be excluded. This is shown in the next chunk:"
      ]
    },
    {
      "cell_type": "code",
      "metadata": {
        "id": "rR9rMoKD_6z3",
        "colab_type": "code",
        "outputId": "16748c90-02bd-44b8-adc0-a2f2522d6b9d",
        "colab": {
          "base_uri": "https://localhost:8080/",
          "height": 173
        }
      },
      "source": [
        "#Validate missing values\n",
        "print('Missing values gender variable:',s11_20192['stuSex'].isnull().sum())\n",
        "print('Missing values Global Score variable:',s11_20192['stuGlobalScore'].isnull().sum())\n",
        "print('Missing values Reading Score variable:',s11_20192['readingScore'].isnull().sum())\n",
        "print('Missing values Math Score variable:',s11_20192['mathScore'].isnull().sum())\n",
        "print('Missing values Science Score variable:',s11_20192['scienceScore'].isnull().sum(),'\\n')\n",
        "\n",
        "#Delete observations of stuSex with missing values\n",
        "s11_20192.dropna(subset=['stuSex'], inplace=True)\n",
        "#print(s11_20192['stuSex'].isnull().sum())\n",
        "\n",
        "s11_20192.shape\n",
        "print('After deleting missing values of stuSex variable:')\n",
        "print('Number of observations:',s11_20192.shape[0])\n",
        "print('Number of variables:',s11_20192.shape[1])\n"
      ],
      "execution_count": 0,
      "outputs": [
        {
          "output_type": "stream",
          "text": [
            "Missing values gender variable: 101\n",
            "Missing values Global Score variable: 0\n",
            "Missing values Reading Score variable: 0\n",
            "Missing values Math Score variable: 0\n",
            "Missing values Science Score variable: 0 \n",
            "\n",
            "After deleting missing values of stuSex variable:\n",
            "Number of observations: 518017\n",
            "Number of variables: 17\n"
          ],
          "name": "stdout"
        }
      ]
    },
    {
      "cell_type": "markdown",
      "metadata": {
        "id": "v1bQEXAn-ovp",
        "colab_type": "text"
      },
      "source": [
        "Finally, the database contains the information of 518.017 students and 17 variables per each."
      ]
    },
    {
      "cell_type": "markdown",
      "metadata": {
        "colab_type": "text",
        "id": "tdBTDxdTbEAT"
      },
      "source": [
        "#### *Coding category variables*\n",
        "\n",
        "Many of the variables in our database are categorical. Thus, we proceed to  code them as follows:  \n",
        "\n",
        "  - `'famHomeStratum'` refers to the socioeconomic level of the family where the student habits. They are divided in six groups with lower numbers refering to lower socioeconomic level. \n",
        "  - `'famFatherEduc'`and `'famMotherEduc'` refer to the level of education of the student's father and mother, respectively. These variables follow a precise classification which, for simplicity, will be rearranged later in the project.\n",
        "  - `'schoolArea'` refers to the area where the school is. This could be *Rural* or *Urban*. \n",
        "  - `'schoolFunding'` refers to the source of funding of the school. Such could be *Official* if the school is public or *Non Official* if the school is a private institution. "
      ]
    },
    {
      "cell_type": "code",
      "metadata": {
        "id": "hfJuaHbPaTHb",
        "colab_type": "code",
        "colab": {}
      },
      "source": [
        "# Family Stratum\n",
        "#print(s11_20192['famStratum'].cat.categories)\n",
        "s11_20192['famHomeStratum_cat'] = s11_20192['famHomeStratum'].cat.codes\n",
        "\n",
        "#Parents education\n",
        "##Father\n",
        "#print(s11_20192['famFatherEduc'].cat.categories)\n",
        "s11_20192['famFatherEduc_cat'] = s11_20192['famFatherEduc'].cat.codes\n",
        "#print(s11_20192['famFatherEduc_cat'].value_counts())\n",
        "\n",
        "##Mother\n",
        "#print(s11_20192['famMotherEduc'].cat.categories)\n",
        "s11_20192['famMotherEduc_cat'] = s11_20192['famMotherEduc'].cat.codes\n",
        "\n",
        "#School Area\n",
        "#print(s11_20192['schoolArea'].cat.categories)\n",
        "s11_20192['schoolArea_cat'] = s11_20192['schoolArea'].cat.codes\n",
        "\n",
        "#School Funding\n",
        "#print(s11_20192['schoolFunding'].cat.categories)\n",
        "s11_20192['schoolFunding_cat'] = s11_20192['schoolFunding'].cat.codes"
      ],
      "execution_count": 0,
      "outputs": []
    },
    {
      "cell_type": "markdown",
      "metadata": {
        "id": "bC_DAElorS-4",
        "colab_type": "text"
      },
      "source": [
        "### **DESCRIPTIVE STATISTICS**\n",
        "\n",
        "Once the data is prepared, we proceed to analyze it. Next chunks show the mean/proportion and standard deviation of each variable. As the focus of this project relies on the distinction between boys and girls, the descriptive analysis was performed on the whole sample first and then differentiating among student gender (`stuSex`). "
      ]
    },
    {
      "cell_type": "markdown",
      "metadata": {
        "id": "t3xLzpX7PB0T",
        "colab_type": "text"
      },
      "source": [
        "#### *Personal characteristics*\n",
        "\n",
        "In this section are shown the descriptive statistics of the personal characteristics of the students. "
      ]
    },
    {
      "cell_type": "code",
      "metadata": {
        "id": "ddrU9Z_WVhta",
        "colab_type": "code",
        "outputId": "3032d702-1b27-4148-dbe6-83faf08a567b",
        "colab": {
          "base_uri": "https://localhost:8080/",
          "height": 173
        }
      },
      "source": [
        "#Gender\n",
        "print('Gender: \\n')\n",
        "\n",
        "##Girls:\n",
        "print('Girls:')\n",
        "print('Number of girls:', s11_20192.query('stuSex == \"F\"')['stuSex'].count())\n",
        "print('Girls proportion: ',\n",
        "      round(s11_20192.query('stuSex == \"F\"')['stuSex'].count()\\\n",
        "            /s11_20192['stuSex'].count(),2), '\\n')\n",
        "\n",
        "##Boys:\n",
        "print('Boys:')\n",
        "print('Number of boys:', s11_20192.query('stuSex == \"M\"')['stuSex'].count())\n",
        "print('Boys proportion: ',\n",
        "      round(s11_20192.query('stuSex == \"M\"')['stuSex'].count()\\\n",
        "            /s11_20192['stuSex'].count(),2),)"
      ],
      "execution_count": 0,
      "outputs": [
        {
          "output_type": "stream",
          "text": [
            "Gender: \n",
            "\n",
            "Girls:\n",
            "Number of girls: 279276\n",
            "Girls proportion:  0.54 \n",
            "\n",
            "Boys:\n",
            "Number of boys: 238741\n",
            "Boys proportion:  0.46\n"
          ],
          "name": "stdout"
        }
      ]
    },
    {
      "cell_type": "markdown",
      "metadata": {
        "id": "m2Oe9ITNCkcD",
        "colab_type": "text"
      },
      "source": [
        "The sample has slightly more girls than boys. However, this difference is considered small and is not expected to bias the results. "
      ]
    },
    {
      "cell_type": "code",
      "metadata": {
        "id": "PGBygsR8OY1q",
        "colab_type": "code",
        "outputId": "bfb5d38c-5809-4ef2-be37-95c32acaa9f8",
        "colab": {
          "base_uri": "https://localhost:8080/",
          "height": 208
        }
      },
      "source": [
        "#Age\n",
        "\n",
        "#General stats\n",
        "print('Age: \\n',\n",
        "      'Average age of the students:',\n",
        "      round(s11_20192.stuAge.mean(),2), 'years old. \\n',\n",
        "      'Standard deviation of age:',\n",
        "      round(s11_20192['stuAge'].agg('std'),2), 'years. \\n \\n')\n",
        "\n",
        "#Stats per sex\n",
        "print('Age per sex:')\n",
        "print(s11_20192.groupby('stuSex').agg({'stuAge':['mean','std']}))"
      ],
      "execution_count": 0,
      "outputs": [
        {
          "output_type": "stream",
          "text": [
            "Age: \n",
            " Average age of the students: 17.32 years old. \n",
            " Standard deviation of age: 1.1 years. \n",
            " \n",
            "\n",
            "Age per sex:\n",
            "           stuAge          \n",
            "             mean       std\n",
            "stuSex                     \n",
            "F       17.221294  1.073864\n",
            "M       17.427367  1.129630\n"
          ],
          "name": "stdout"
        }
      ]
    },
    {
      "cell_type": "markdown",
      "metadata": {
        "id": "C-mJoUI_C0kz",
        "colab_type": "text"
      },
      "source": [
        "As expected after filtering the data, the average age of the students is 17.32 years."
      ]
    },
    {
      "cell_type": "code",
      "metadata": {
        "id": "C5kebmUct-KV",
        "colab_type": "code",
        "outputId": "ee9dc061-f0c5-4647-a491-c68368444be1",
        "colab": {
          "base_uri": "https://localhost:8080/",
          "height": 572
        }
      },
      "source": [
        "#Assessment score indexes:\n",
        "\n",
        "#General stats\n",
        "print('Scores: \\n')\n",
        "print('Global score: \\n',\n",
        "      'Mean:',round(s11_20192['stuGlobalScore'].mean(),2), '\\n',\n",
        "      'Standard deviation:', round(s11_20192['stuGlobalScore'].std(),2), '\\n')\n",
        "\n",
        "print('Reading score: \\n',\n",
        "      'Mean:', round(s11_20192['readingScore'].mean(),2), '\\n',\n",
        "      'Standard deviation:', round(s11_20192['readingScore'].std(),2), '\\n')\n",
        "\n",
        "print('Math score: \\n',\n",
        "      'Mean:', round(s11_20192['mathScore'].mean(),2), '\\n',\n",
        "      'Standard deviation:', round(s11_20192['mathScore'].std(),2), '\\n')\n",
        "\n",
        "print('Science score: \\n',\n",
        "      'Mean:', round(s11_20192['scienceScore'].mean(),2), '\\n',\n",
        "      'Standard deviation:', round(s11_20192['scienceScore'].std(),2), '\\n \\n')\n",
        "\n",
        "#Stats per gender\n",
        "print('Scores per sex: \\n')\n",
        "print(s11_20192.groupby('stuSex').agg({'stuGlobalScore': ['mean', 'std']}),'\\n')\n",
        "print(s11_20192.groupby('stuSex')['readingScore',\n",
        "                                  'mathScore',\n",
        "                                  'scienceScore'].agg([np.mean, np.std]))\n"
      ],
      "execution_count": 0,
      "outputs": [
        {
          "output_type": "stream",
          "text": [
            "Scores: \n",
            "\n",
            "Global score: \n",
            " Mean: 248.47 \n",
            " Standard deviation: 50.82 \n",
            "\n",
            "Reading score: \n",
            " Mean: 52.58 \n",
            " Standard deviation: 10.41 \n",
            "\n",
            "Math score: \n",
            " Mean: 51.16 \n",
            " Standard deviation: 11.81 \n",
            "\n",
            "Science score: \n",
            " Mean: 48.7 \n",
            " Standard deviation: 10.65 \n",
            " \n",
            "\n",
            "Scores per sex: \n",
            "\n",
            "       stuGlobalScore           \n",
            "                 mean        std\n",
            "stuSex                          \n",
            "F          244.829226  49.489651\n",
            "M          252.718796  52.016090 \n",
            "\n",
            "       readingScore             mathScore            scienceScore           \n",
            "               mean        std       mean        std         mean        std\n",
            "stuSex                                                                      \n",
            "F         52.367923  10.310291  49.592593  11.488823    47.793484  10.213092\n",
            "M         52.817312  10.520415  53.003225  11.907169    49.771074  11.053583\n"
          ],
          "name": "stdout"
        }
      ]
    },
    {
      "cell_type": "markdown",
      "metadata": {
        "id": "IQhdEQBDIUkt",
        "colab_type": "text"
      },
      "source": [
        "Boys scored a higher result than girls in all subjects. The biggest difference is found at Math’s score meanwhile the smallest appears in Reading. This result may suggest the existance of gender gap in school performance. "
      ]
    },
    {
      "cell_type": "markdown",
      "metadata": {
        "colab_type": "text",
        "id": "rCxfKpb5Lzyn"
      },
      "source": [
        "#### *Family characteristics*\n",
        "\n",
        "Next we show the descriptive statistics of the variables related to the student's family characteristics. \n",
        "As all of them are categorical variables, we first create a dummy variable for each category and then we add them to the database. \n",
        "\n",
        "As previously mentioned, parents' education categories were rearranged for simplicity and renamed afterwards so they follow usual categories. These categories are:\n",
        "- No education\n",
        "- Primary education\n",
        "- Secondary education\n",
        "- Technical education\n",
        "- Undergraduate education\n",
        "- Postgraduate education\n",
        "\n",
        "Moreover, observations with missing values on this matter were not included in the analysis. "
      ]
    },
    {
      "cell_type": "code",
      "metadata": {
        "id": "kE-qANSjsi8v",
        "colab_type": "code",
        "outputId": "3bff7d41-aae7-447a-d4d8-67ffa9dd53e1",
        "colab": {
          "base_uri": "https://localhost:8080/",
          "height": 1000
        }
      },
      "source": [
        "#Father Education\n",
        "fathereduc_dummy =pd.get_dummies(s11_20192, columns=['famFatherEduc_cat'])\n",
        "s11_20192= pd.concat([s11_20192, fathereduc_dummy], axis=1)\n",
        "s11_20192.head()\n",
        "\n",
        "#in case duplicate variables --> check for final version\n",
        "s11_20192 = s11_20192.loc[:,~s11_20192.columns.duplicated()]\n",
        "\n",
        "#No education\n",
        "s11_20192['F_NoEducation']=(s11_20192['famFatherEduc_cat_2'])\n",
        "#Primary Education\n",
        "s11_20192['F_Primary']=(s11_20192['famFatherEduc_cat_5'] | \\\n",
        "                            s11_20192['famFatherEduc_cat_6'])\n",
        "#Secondary Education\n",
        "s11_20192['F_Secondary']=(s11_20192['famFatherEduc_cat_7'] | \\\n",
        "                            s11_20192['famFatherEduc_cat_8'])\n",
        "#Technical Education\n",
        "s11_20192['F_Technical']=(s11_20192['famFatherEduc_cat_9'] | \\\n",
        "                            s11_20192['famFatherEduc_cat_10'])\n",
        "#Undergraduate Education                            \n",
        "s11_20192['F_Undergraduate']=(s11_20192['famFatherEduc_cat_0'] | \\\n",
        "                            s11_20192['famFatherEduc_cat_1'])\n",
        "#Postgraduate Education\n",
        "s11_20192['F_Postgraduate']=(s11_20192['famFatherEduc_cat_4'])\n",
        "\n",
        "#No Answer\n",
        "s11_20192['F_NoAnswer']=(s11_20192['famFatherEduc_cat_3'])\n",
        "\n",
        "\n",
        "feduCatdf = pd.DataFrame(s11_20192, columns= ['F_NoEducation', 'F_Primary',\n",
        "                                              'F_Secondary', 'F_Technical',\n",
        "                                             'F_Undergraduate', 'F_Postgraduate',\n",
        "                                              'F_NoAnswer'])\n",
        "\n",
        "feduCat = ['F_NoEducation', 'F_Primary',\n",
        "           'F_Secondary', 'F_Technical',\n",
        "           'F_Undergraduate', 'F_Postgraduate',\n",
        "           'F_NoAnswer']\n",
        "\n",
        "rangeFeduCat = [feduCatdf.columns.get_loc(c) for c in feduCat if c in feduCatdf]\n",
        "rangeFeduCat\n",
        "\n",
        "educNames = [\"No Education\", \"Primary Education\", 'Secondary Education',\n",
        "             'Technical Education', 'Undergraduate Education', \n",
        "             'Postgraduate Education', 'No answer']\n",
        "\n",
        "#Stats general\n",
        "print('Father Education: \\n')\n",
        "\n",
        "for i, j in zip(feduCat, educNames) :\n",
        "  print(str(j),'\\n',\n",
        "        'Proportion of students:',\n",
        "        round(s11_20192[str(i)].mean(),2),'\\n',\n",
        "        'Standard deviation: ',\n",
        "        round(s11_20192[str(i)].std(),2), '\\n')\n",
        "\n",
        "#Stats per sex\n",
        "print('\\n')\n",
        "print('Father education per student sex: \\n')\n",
        "for i, j in zip(feduCat, educNames) :\n",
        "  print(str(j),'\\n',\n",
        "        s11_20192.groupby('stuSex')[str(i)].agg([np.mean, np.std]), '\\n')"
      ],
      "execution_count": 0,
      "outputs": [
        {
          "output_type": "stream",
          "text": [
            "Father Education: \n",
            "\n",
            "No Education \n",
            " Proportion of students: 0.03 \n",
            " Standard deviation:  0.18 \n",
            "\n",
            "Primary Education \n",
            " Proportion of students: 0.28 \n",
            " Standard deviation:  0.45 \n",
            "\n",
            "Secondary Education \n",
            " Proportion of students: 0.35 \n",
            " Standard deviation:  0.48 \n",
            "\n",
            "Technical Education \n",
            " Proportion of students: 0.09 \n",
            " Standard deviation:  0.28 \n",
            "\n",
            "Undergraduate Education \n",
            " Proportion of students: 0.11 \n",
            " Standard deviation:  0.31 \n",
            "\n",
            "Postgraduate Education \n",
            " Proportion of students: 0.02 \n",
            " Standard deviation:  0.13 \n",
            "\n",
            "No answer \n",
            " Proportion of students: 0.06 \n",
            " Standard deviation:  0.24 \n",
            "\n",
            "\n",
            "\n",
            "Father education per student sex: \n",
            "\n",
            "No Education \n",
            "             mean       std\n",
            "stuSex                    \n",
            "F       0.032874  0.178308\n",
            "M       0.031884  0.175691 \n",
            "\n",
            "Primary Education \n",
            "             mean       std\n",
            "stuSex                    \n",
            "F       0.299449  0.458018\n",
            "M       0.258716  0.437930 \n",
            "\n",
            "Secondary Education \n",
            "             mean       std\n",
            "stuSex                    \n",
            "F       0.340531  0.473888\n",
            "M       0.367247  0.482056 \n",
            "\n",
            "Technical Education \n",
            "             mean       std\n",
            "stuSex                    \n",
            "F       0.088883  0.284576\n",
            "M       0.085817  0.280094 \n",
            "\n",
            "Undergraduate Education \n",
            "             mean       std\n",
            "stuSex                    \n",
            "F       0.101806  0.302394\n",
            "M       0.112586  0.316087 \n",
            "\n",
            "Postgraduate Education \n",
            "             mean       std\n",
            "stuSex                    \n",
            "F       0.016543  0.127551\n",
            "M       0.019444  0.138079 \n",
            "\n",
            "No answer \n",
            "             mean       std\n",
            "stuSex                    \n",
            "F       0.058308  0.234325\n",
            "M       0.060530  0.238467 \n",
            "\n"
          ],
          "name": "stdout"
        }
      ]
    },
    {
      "cell_type": "markdown",
      "metadata": {
        "id": "TelH1GrWMz3T",
        "colab_type": "text"
      },
      "source": [
        "More than half of students in the sample, have a father with Primary or Secondary education level. Only  3% of students' father have no education. However, at the same time only 2% of students' father have Postgraduate education. These numbers depicts a scenario with low levels of education among fathers that could influence offspring's levels of education in turn. \n",
        "\n",
        "A priori, no striking differences are found between girls and boys on this matter."
      ]
    },
    {
      "cell_type": "code",
      "metadata": {
        "id": "wCMmsfBIt5o6",
        "colab_type": "code",
        "outputId": "dc706963-13ee-49c1-a5f7-b130c31178bb",
        "colab": {
          "base_uri": "https://localhost:8080/",
          "height": 1000
        }
      },
      "source": [
        "#Mother Education\n",
        "mothereduc_dummy =pd.get_dummies(s11_20192, columns=['famMotherEduc_cat'])\n",
        "s11_20192= pd.concat([s11_20192, mothereduc_dummy], axis=1)\n",
        "\n",
        "#in case duplicate variables --> check for final version\n",
        "s11_20192 = s11_20192.loc[:,~s11_20192.columns.duplicated()] \n",
        "\n",
        "#No Education\n",
        "s11_20192['M_NoEducation']=(s11_20192['famMotherEduc_cat_2'])\n",
        "#Primary Education\n",
        "s11_20192['M_Primary']=(s11_20192['famMotherEduc_cat_5'] | \\\n",
        "                            s11_20192['famMotherEduc_cat_6'])\n",
        "#Secondary Education\n",
        "s11_20192['M_Secondary']=(s11_20192['famMotherEduc_cat_7'] | \\\n",
        "                            s11_20192['famMotherEduc_cat_8'])\n",
        "#Technical Education\n",
        "s11_20192['M_Technical']=(s11_20192['famMotherEduc_cat_9'] | \\\n",
        "                            s11_20192['famMotherEduc_cat_10'])\n",
        "#Undergraduate Education\n",
        "s11_20192['M_Undergraduate']=(s11_20192['famMotherEduc_cat_0'] | \\\n",
        "                            s11_20192['famMotherEduc_cat_1'])\n",
        "#Postgraduate Education\n",
        "s11_20192['M_Postgraduate']=(s11_20192['famMotherEduc_cat_4'])\n",
        "\n",
        "#No Answer\n",
        "s11_20192['M_NoAnswer']=(s11_20192['famMotherEduc_cat_3'])\n",
        "\n",
        "\n",
        "meduCatdf = pd.DataFrame(s11_20192, columns= ['M_NoEducation', 'M_Primary',\n",
        "                                              'M_Secondary', 'M_Technical',\n",
        "                                             'M_Undergraduate', 'M_Postgraduate',\n",
        "                                              'M_NoAnswer'])\n",
        "\n",
        "meduCat = ['M_NoEducation', 'M_Primary',\n",
        "           'M_Secondary', 'M_Technical',\n",
        "           'M_Undergraduate', 'M_Postgraduate',\n",
        "           'M_NoAnswer']\n",
        "\n",
        "rangeMeduCat = [meduCatdf.columns.get_loc(c) for c in meduCat if c in meduCatdf]\n",
        "rangeMeduCat\n",
        "\n",
        "#Stats general\n",
        "print('Mother Education: \\n')\n",
        "\n",
        "for i, j in zip(meduCat, educNames) :\n",
        "  print(str(j),'\\n',\n",
        "        'Proportion of students:',\n",
        "        round(s11_20192[str(i)].mean(),2),'\\n',\n",
        "        'Standard deviation:',\n",
        "        round(s11_20192[str(i)].std(),2),'\\n')\n",
        "\n",
        "#Stats per sex\n",
        "print('\\n')\n",
        "print('Mother education per student sex: \\n')\n",
        "for i, j in zip(meduCat, educNames) :\n",
        "  print(str(j),'\\n',\n",
        "        s11_20192.groupby('stuSex')[str(i)].agg([np.mean, np.std]),'\\n')"
      ],
      "execution_count": 0,
      "outputs": [
        {
          "output_type": "stream",
          "text": [
            "Mother Education: \n",
            "\n",
            "No Education \n",
            " Proportion of students: 0.02 \n",
            " Standard deviation: 0.14 \n",
            "\n",
            "Primary Education \n",
            " Proportion of students: 0.24 \n",
            " Standard deviation: 0.43 \n",
            "\n",
            "Secondary Education \n",
            " Proportion of students: 0.4 \n",
            " Standard deviation: 0.49 \n",
            "\n",
            "Technical Education \n",
            " Proportion of students: 0.13 \n",
            " Standard deviation: 0.34 \n",
            "\n",
            "Undergraduate Education \n",
            " Proportion of students: 0.13 \n",
            " Standard deviation: 0.33 \n",
            "\n",
            "Postgraduate Education \n",
            " Proportion of students: 0.02 \n",
            " Standard deviation: 0.14 \n",
            "\n",
            "No answer \n",
            " Proportion of students: 0.02 \n",
            " Standard deviation: 0.13 \n",
            "\n",
            "\n",
            "\n",
            "Mother education per student sex: \n",
            "\n",
            "No Education \n",
            "             mean       std\n",
            "stuSex                    \n",
            "F       0.020063  0.140215\n",
            "M       0.019385  0.137874 \n",
            "\n",
            "Primary Education \n",
            "             mean       std\n",
            "stuSex                    \n",
            "F       0.254852  0.435779\n",
            "M       0.216167  0.411631 \n",
            "\n",
            "Secondary Education \n",
            "             mean       std\n",
            "stuSex                    \n",
            "F       0.387344  0.487144\n",
            "M       0.409121  0.491673 \n",
            "\n",
            "Technical Education \n",
            "             mean       std\n",
            "stuSex                    \n",
            "F       0.137398  0.344268\n",
            "M       0.122023  0.327314 \n",
            "\n",
            "Undergraduate Education \n",
            "             mean       std\n",
            "stuSex                    \n",
            "F       0.118571  0.323283\n",
            "M       0.135704  0.342474 \n",
            "\n",
            "Postgraduate Education \n",
            "             mean       std\n",
            "stuSex                    \n",
            "F       0.019758  0.139169\n",
            "M       0.021396  0.144699 \n",
            "\n",
            "No answer \n",
            "             mean       std\n",
            "stuSex                    \n",
            "F       0.012540  0.111276\n",
            "M       0.022351  0.147821 \n",
            "\n"
          ],
          "name": "stdout"
        }
      ]
    },
    {
      "cell_type": "markdown",
      "metadata": {
        "id": "jWSJ_yfkQOMS",
        "colab_type": "text"
      },
      "source": [
        "Similar results are found regarding mother's level of education. Again no differences are found between students' gender. "
      ]
    },
    {
      "cell_type": "code",
      "metadata": {
        "colab_type": "code",
        "id": "HT37nnecFdAu",
        "outputId": "7f3081bf-4cb3-4eb5-bbbe-36017d0277d2",
        "colab": {
          "base_uri": "https://localhost:8080/",
          "height": 1000
        }
      },
      "source": [
        "#Family Stratum\n",
        "stratum_dummy =pd.get_dummies(s11_20192, columns=['famHomeStratum_cat'])\n",
        "s11_20192= pd.concat([s11_20192, stratum_dummy], axis=1)\n",
        "s11_20192.head()\n",
        "#in case duplicate variables --> check for final version\n",
        "s11_20192 = s11_20192.loc[:,~s11_20192.columns.duplicated()] \n",
        "\n",
        "stratCatdf = pd.DataFrame(s11_20192,\n",
        "                          columns= ['famHomeStratum_cat_0',\n",
        "                                    'famHomeStratum_cat_1',\n",
        "                                    'famHomeStratum_cat_2',\n",
        "                                    'famHomeStratum_cat_3',\n",
        "                                    'famHomeStratum_cat_4',\n",
        "                                    'famHomeStratum_cat_5'])\n",
        "\n",
        "stratCat = ['famHomeStratum_cat_0','famHomeStratum_cat_1',\n",
        "            'famHomeStratum_cat_2', 'famHomeStratum_cat_3',\n",
        "            'famHomeStratum_cat_4', 'famHomeStratum_cat_5']\n",
        "\n",
        "rangeStratCat = [stratCatdf.columns.get_loc(c)\\\n",
        "                 for c in stratCat if c in stratCatdf]\n",
        "rangeStratCat\n",
        "\n",
        "#Stats general\n",
        "print('Home Stratum: \\n')\n",
        "for i in rangeStratCat :\n",
        "  print('Stratum '+str(i+1),'\\n',\n",
        "        'Proportion of students:',\n",
        "        round(s11_20192['famHomeStratum_cat_'+str(i)].mean(),2),'\\n',\n",
        "        'Standard deviation:',\n",
        "        round(s11_20192['famHomeStratum_cat_'+str(i)].std(),2),'\\n')\n",
        "\n",
        "#Stats per sex\n",
        "print('\\n')\n",
        "print('Home Stratum per student sex: \\n')\n",
        "for i in rangeStratCat :\n",
        "  print('Stratum '+str(i+1),'\\n',\n",
        "        s11_20192.groupby('stuSex')['famHomeStratum_cat_'+str(i)].agg([np.mean, np.std]))"
      ],
      "execution_count": 0,
      "outputs": [
        {
          "output_type": "stream",
          "text": [
            "Home Stratum: \n",
            "\n",
            "Stratum 1 \n",
            " Proportion of students: 0.29 \n",
            " Standard deviation: 0.45 \n",
            "\n",
            "Stratum 2 \n",
            " Proportion of students: 0.35 \n",
            " Standard deviation: 0.48 \n",
            "\n",
            "Stratum 3 \n",
            " Proportion of students: 0.2 \n",
            " Standard deviation: 0.4 \n",
            "\n",
            "Stratum 4 \n",
            " Proportion of students: 0.05 \n",
            " Standard deviation: 0.21 \n",
            "\n",
            "Stratum 5 \n",
            " Proportion of students: 0.01 \n",
            " Standard deviation: 0.12 \n",
            "\n",
            "Stratum 6 \n",
            " Proportion of students: 0.01 \n",
            " Standard deviation: 0.08 \n",
            "\n",
            "\n",
            "\n",
            "Home Stratum per student sex: \n",
            "\n",
            "Stratum 1 \n",
            "             mean       std\n",
            "stuSex                    \n",
            "F       0.315727  0.464806\n",
            "M       0.264672  0.441159\n",
            "Stratum 2 \n",
            "             mean       std\n",
            "stuSex                    \n",
            "F       0.344792  0.475301\n",
            "M       0.352616  0.477786\n",
            "Stratum 3 \n",
            "             mean       std\n",
            "stuSex                    \n",
            "F       0.190070  0.392357\n",
            "M       0.216528  0.411879\n",
            "Stratum 4 \n",
            "             mean       std\n",
            "stuSex                    \n",
            "F       0.042829  0.202471\n",
            "M       0.054013  0.226043\n",
            "Stratum 5 \n",
            "             mean       std\n",
            "stuSex                    \n",
            "F       0.013338  0.114718\n",
            "M       0.016344  0.126795\n",
            "Stratum 6 \n",
            "             mean       std\n",
            "stuSex                    \n",
            "F       0.006406  0.079780\n",
            "M       0.007049  0.083665\n"
          ],
          "name": "stdout"
        }
      ]
    },
    {
      "cell_type": "markdown",
      "metadata": {
        "id": "5-BGlUuQQfA3",
        "colab_type": "text"
      },
      "source": [
        "Finally, results on students' stratum depict a more alarming situation as 84% of students belong to lower stratums. A priori, no differences are found between gender in each stratum. "
      ]
    },
    {
      "cell_type": "markdown",
      "metadata": {
        "id": "JFiaRlspPLCK",
        "colab_type": "text"
      },
      "source": [
        "#### *School characteristics*\n",
        "\n",
        "Finally, in the next set of chunks there is shown the descriptive statistics for the variables related to the school characteristics. \n",
        "\n",
        "From their analysis it is found that most of the students live in urban areas and attend to public schools. "
      ]
    },
    {
      "cell_type": "code",
      "metadata": {
        "id": "w9zq72rlDYT2",
        "colab_type": "code",
        "outputId": "5004732e-27c3-4667-9962-6445bd7cf7dc",
        "colab": {
          "base_uri": "https://localhost:8080/",
          "height": 485
        }
      },
      "source": [
        "#School area\n",
        "\n",
        "#dummies-> cat 0 = rural\n",
        "scharea_dummy =pd.get_dummies(s11_20192, columns=['schoolArea_cat'])\n",
        "s11_20192= pd.concat([s11_20192, scharea_dummy], axis=1)\n",
        "\n",
        "#In case duplicate variables --> check for final version\n",
        "s11_20192 = s11_20192.loc[:,~s11_20192.columns.duplicated()] \n",
        "\n",
        "#Stats general\n",
        "print('School Area: \\n')\n",
        "#Urban Area \n",
        "print('Urban Area: \\n',\n",
        "      'Proportion of students:',\n",
        "      round(s11_20192['schoolArea_cat_1'].mean(),2), '\\n',\n",
        "      'Standard deviation:',\n",
        "      round(s11_20192['schoolArea_cat_1'].std(),2), '\\n') \n",
        "\n",
        "#Rural Area\n",
        "print('Rural Area: \\n',\n",
        "      'Proportion of students:',\n",
        "      round(s11_20192['schoolArea_cat_0'].mean(),2), '\\n',\n",
        "      'Standard deviation:',\n",
        "      round(s11_20192['schoolArea_cat_0'].std(),2), '\\n')\n",
        "\n",
        "\n",
        "#Stats per sex\n",
        "print('\\n')\n",
        "print('School Area per sex: \\n')\n",
        "#Urban Area\n",
        "print('Urban Area: \\n', \n",
        "      s11_20192.groupby('stuSex').agg({'schoolArea_cat_1':['mean','std']}),'\\n') \n",
        "\n",
        "#Rural Area\n",
        "print('Rural Area: \\n',\n",
        "      s11_20192.groupby('stuSex').agg({'schoolArea_cat_0':['mean','std']})) \n"
      ],
      "execution_count": 0,
      "outputs": [
        {
          "output_type": "stream",
          "text": [
            "School Area: \n",
            "\n",
            "Urban Area: \n",
            " Proportion of students: 0.84 \n",
            " Standard deviation: 0.36 \n",
            "\n",
            "Rural Area: \n",
            " Proportion of students: 0.16 \n",
            " Standard deviation: 0.36 \n",
            "\n",
            "\n",
            "\n",
            "School Area per sex: \n",
            "\n",
            "Urban Area: \n",
            "        schoolArea_cat_1          \n",
            "                   mean       std\n",
            "stuSex                           \n",
            "F              0.845128  0.361783\n",
            "M              0.839274  0.367279 \n",
            "\n",
            "Rural Area: \n",
            "        schoolArea_cat_0          \n",
            "                   mean       std\n",
            "stuSex                           \n",
            "F              0.154872  0.361783\n",
            "M              0.160726  0.367279\n"
          ],
          "name": "stdout"
        }
      ]
    },
    {
      "cell_type": "code",
      "metadata": {
        "id": "VHYgc88SPV4a",
        "colab_type": "code",
        "outputId": "3162824c-272d-4941-8e1c-66e82d05e618",
        "colab": {
          "base_uri": "https://localhost:8080/",
          "height": 173
        }
      },
      "source": [
        "#Plot School Area characteristics\n",
        "\n",
        "plt.figure()\n",
        "\n",
        "##Urban\n",
        "plt.subplot(2, 2, 1)\n",
        "labels= 'Boys', 'Girls'\n",
        "shares= [(round(s11_20192.query('stuSex == \"M\"')['schoolArea_cat_1'].count()/ \\\n",
        "                s11_20192['schoolArea_cat_1'].count()*100,2)),\n",
        "         (round(s11_20192.query('stuSex == \"F\"')['schoolArea_cat_1'].count()/ \\\n",
        "                s11_20192['schoolArea_cat_1'].count()*100,2))]\n",
        "colors = ['lightskyblue', 'lightcoral']\n",
        "explode= (0.1,0)\n",
        "\n",
        "plt.pie(shares,explode=explode, labels=labels,colors=colors, autopct='%1.1f%%',\n",
        "        shadow=True, startangle=140)\n",
        "plt.axis('equal')\n",
        "plt.title('Percentage of students in \\nurban area')\n",
        "#plt.show()\n",
        "\n",
        "##Rural\n",
        "plt.subplot(2, 2, 2)\n",
        "labels= 'Boys', 'Girls'\n",
        "shares= [(round(s11_20192.query('stuSex == \"M\"')['schoolArea_cat_0'].count()/ \\\n",
        "                s11_20192['schoolArea_cat_0'].count()*100,2)),\n",
        "         (round(s11_20192.query('stuSex == \"F\"')['schoolArea_cat_0'].count()/ \\\n",
        "                s11_20192['schoolArea_cat_0'].count()*100,2))]\n",
        "colors = ['lightskyblue', 'lightcoral']\n",
        "explode= (0.1,0)\n",
        "\n",
        "plt.pie(shares,explode=explode, labels=labels,colors=colors, autopct='%1.1f%%',\n",
        "        shadow=True, startangle=140)\n",
        "\n",
        "plt.axis('equal')\n",
        "plt.title('Percentage of students studying in \\nrural area')\n",
        "\n",
        "plt.subplots_adjust(top=1, bottom=0, left=0.10, right=0.95, hspace=0.6,\n",
        "                    wspace=0.35)\n",
        "plt.show()"
      ],
      "execution_count": 0,
      "outputs": [
        {
          "output_type": "display_data",
          "data": {
            "image/png": "[encoded data removed]",
            "text/plain": [
              "<Figure size 432x288 with 2 Axes>"
            ]
          },
          "metadata": {
            "tags": []
          }
        }
      ]
    },
    {
      "cell_type": "code",
      "metadata": {
        "id": "KQxF8edj4pGZ",
        "colab_type": "code",
        "outputId": "590da495-0b6b-467d-846c-1e094c206e6b",
        "colab": {
          "base_uri": "https://localhost:8080/",
          "height": 485
        }
      },
      "source": [
        "#School funding\n",
        "#dummies-> cat 0 = private\n",
        "schfund_dummy =pd.get_dummies(s11_20192, columns=['schoolFunding_cat'])\n",
        "s11_20192= pd.concat([s11_20192, schfund_dummy], axis=1)\n",
        "\n",
        "#In case duplicate variables --> check for final version\n",
        "s11_20192 = s11_20192.loc[:,~s11_20192.columns.duplicated()]\n",
        "\n",
        "#Stats general\n",
        "print('School Funding: \\n')\n",
        "#Public schools\n",
        "print('Public schools: \\n',\n",
        "      'Proportion of students:',\n",
        "      round(s11_20192.schoolFunding_cat_1.mean(),2), '\\n',\n",
        "      'Standard deviation:',\n",
        "      round(s11_20192.schoolFunding_cat_1.std(),2), '\\n')\n",
        "\n",
        "#Private schools\n",
        "print('Private schools: \\n',\n",
        "      'Proportion of students:',\n",
        "      round(s11_20192.schoolFunding_cat_0.mean(),2), '\\n',\n",
        "      'Standard deviation:',\n",
        "      round(s11_20192.schoolFunding_cat_0.std(),2), '\\n')\n",
        "\n",
        "#Stats per sex\n",
        "print('\\n')\n",
        "print('School Funding per sex: \\n')\n",
        "#Public Schools\n",
        "print('Public schools: \\n',\n",
        "      s11_20192.groupby('stuSex').agg({'schoolFunding_cat_1':['mean',\n",
        "                                                              'std']}),'\\n')\n",
        "\n",
        "#Private Schools\n",
        "print('Private schools: \\n',\n",
        "      s11_20192.groupby('stuSex').agg({'schoolFunding_cat_0':['mean','std']}))\n"
      ],
      "execution_count": 0,
      "outputs": [
        {
          "output_type": "stream",
          "text": [
            "School Funding: \n",
            "\n",
            "Public schools: \n",
            " Proportion of students: 0.77 \n",
            " Standard deviation: 0.42 \n",
            "\n",
            "Private schools: \n",
            " Proportion of students: 0.23 \n",
            " Standard deviation: 0.42 \n",
            "\n",
            "\n",
            "\n",
            "School Funding per sex: \n",
            "\n",
            "Public schools: \n",
            "        schoolFunding_cat_1          \n",
            "                      mean       std\n",
            "stuSex                              \n",
            "F                 0.788213  0.408575\n",
            "M                 0.751823  0.431956 \n",
            "\n",
            "Private schools: \n",
            "        schoolFunding_cat_0          \n",
            "                      mean       std\n",
            "stuSex                              \n",
            "F                 0.211787  0.408575\n",
            "M                 0.248177  0.431956\n"
          ],
          "name": "stdout"
        }
      ]
    },
    {
      "cell_type": "markdown",
      "metadata": {
        "id": "xshk1mAXtt-C",
        "colab_type": "text"
      },
      "source": [
        "### **BALANCE CHECK**\n",
        "\n",
        "In previous chunks, we have shown a descriptive analysis of the sample based on the students' sex. In the following chunks, we follow the approach of Abadía and Bernal (2016), and we will find whether there exists a statically significant difference among boys and girls for each variable.\n",
        "\n",
        "Thus, we first find this difference and second we perform a T-student test in which the null hypothesis is defined as no difference among groups. \n",
        "\n",
        "The results of the balance check, which can be seen in the next chunks, suggest:\n",
        "\n",
        "a. Score Indexes: for all subjects, boys achieved a higher score than girls. This difference is statically significant for all cases given the low p-values. This confirms the existence and significance of a gender education gap. \n",
        "\n",
        "b. Control Variables: for all the control variables the difference between the proportion of students in each one is statically significant.\n"
      ]
    },
    {
      "cell_type": "markdown",
      "metadata": {
        "id": "yLsYNrhkINy-",
        "colab_type": "text"
      },
      "source": [
        "#### *Personal characteristics*"
      ]
    },
    {
      "cell_type": "code",
      "metadata": {
        "id": "6qtUH_KzkDka",
        "colab_type": "code",
        "outputId": "8c266e53-e015-4e28-8398-ee755590bb1e",
        "colab": {
          "base_uri": "https://localhost:8080/",
          "height": 190
        }
      },
      "source": [
        "#Personal characteristics\n",
        "\n",
        "print('T-test')\n",
        "print('Personal Characteristics')\n",
        "print('________________________________________________________________________________')\n",
        "\n",
        "#Score Indexes\n",
        "scoreIndexdf = pd.DataFrame(s11_20192,\n",
        "                            columns= ['stuGlobalScore','readingScore',\n",
        "                                      'mathScore', 'scienceScore'])\n",
        "\n",
        "scoreIndex = ['stuGlobalScore', 'readingScore', 'mathScore', 'scienceScore']\n",
        "\n",
        "rangescoresIndex = [scoreIndexdf.columns.get_loc(c) \\\n",
        "                    for c in scoreIndex if c in scoreIndexdf]\n",
        "rangescoresIndex\n",
        "\n",
        "difScore = {}\n",
        "for i in scoreIndex:\n",
        "  difScore[str(i)] = round(s11_20192[s11_20192['stuSex']=='M'][str(i)].mean() - \\\n",
        "                           s11_20192[s11_20192['stuSex']=='F'][str(i)].mean(),3)\n",
        "  t, p = ttest_ind(s11_20192[s11_20192['stuSex']=='M'][str(i)],\n",
        "                   s11_20192[s11_20192['stuSex']=='F'][str(i)],\n",
        "                   equal_var=False)\n",
        "  print(str(i),\n",
        "        '\\t\\tDifference:',difScore[str(i)],'\\t t = %g \\t p = %g' % (t, p))\n",
        "print('--------------------------------------------------------------------------------')\n",
        "\n",
        "#Age\n",
        "ageM=s11_20192[s11_20192['stuSex']== 'M']['stuAge']\n",
        "ageF=s11_20192[s11_20192['stuSex']== 'F']['stuAge']\n",
        "difAge = round(ageM.mean() - ageF.mean(),3)\n",
        "\n",
        "t, p = ttest_ind(ageM, ageF, equal_var=False)\n",
        "print('Age\\t\\t\\tDifference:',difAge,'\\t t = %g \\t p = %g' % (t, p))\n",
        "print('--------------------------------------------------------------------------------')"
      ],
      "execution_count": 0,
      "outputs": [
        {
          "output_type": "stream",
          "text": [
            "T-test\n",
            "Personal Characteristics\n",
            "________________________________________________________________________________\n",
            "stuGlobalScore \t\tDifference: 7.89 \t t = 55.6446 \t p = 0\n",
            "readingScore \t\tDifference: 0.449 \t t = 15.4665 \t p = 6.00708e-54\n",
            "mathScore \t\tDifference: 3.411 \t t = 104.437 \t p = 0\n",
            "scienceScore \t\tDifference: 1.978 \t t = 66.466 \t p = 0\n",
            "--------------------------------------------------------------------------------\n",
            "Age\t\t\tDifference: 0.206 \t t = 66.9501 \t p = 0\n",
            "--------------------------------------------------------------------------------\n"
          ],
          "name": "stdout"
        }
      ]
    },
    {
      "cell_type": "markdown",
      "metadata": {
        "id": "6kHna44gIYCs",
        "colab_type": "text"
      },
      "source": [
        "#### *Family characteristics*"
      ]
    },
    {
      "cell_type": "code",
      "metadata": {
        "id": "Vz24G_HpLsiw",
        "colab_type": "code",
        "outputId": "6c39221a-5b3a-48a9-bac9-e7e4a3decbe8",
        "colab": {
          "base_uri": "https://localhost:8080/",
          "height": 468
        }
      },
      "source": [
        "#Family characteristics\n",
        "\n",
        "print('T-test')\n",
        "print('Family characteristics')\n",
        "print('________________________________________________________________________________')\n",
        "\n",
        "#Father education\n",
        "difFEduc = {}\n",
        "for i, j in zip(feduCat, educNames):\n",
        "  difFEduc[str(i)] = round(s11_20192[s11_20192['stuSex']=='M'][str(i)].mean() - \\\n",
        "                           s11_20192[s11_20192['stuSex']=='F'][str(i)].mean(),3)\n",
        "  t, p = ttest_ind(s11_20192[s11_20192['stuSex']=='M'][str(i)],\n",
        "                   s11_20192[s11_20192['stuSex']=='F'][str(i)],\n",
        "                   equal_var=False)\n",
        "  print('Father '+str(j),\n",
        "        '\\t\\tDifference:',difFEduc[str(i)],'\\t t = %g \\t p = %g' % (t, p))\n",
        "print('--------------------------------------------------------------------------------')\n",
        "\n",
        "\n",
        "#Mother Education\n",
        "difMEduc = {}\n",
        "for i, j in zip(meduCat, educNames):\n",
        "  difMEduc[str(i)] = round(s11_20192[s11_20192['stuSex']=='M'][str(i)].mean() - \\\n",
        "                           s11_20192[s11_20192['stuSex']=='F'][str(i)].mean(),3)\n",
        "  t, p = ttest_ind(s11_20192[s11_20192['stuSex']=='M'][str(i)],\n",
        "                   s11_20192[s11_20192['stuSex']=='F'][str(i)],\n",
        "                   equal_var=False)\n",
        "  print('Mother '+str(j),\n",
        "        '\\t\\tDifference:',difMEduc[str(i)],'\\t t = %g \\t p = %g' % (t, p))\n",
        "print('--------------------------------------------------------------------------------')\n",
        "\n",
        "\n",
        "#Stratum\n",
        "difStrat = {}\n",
        "for i in stratCat:\n",
        "  difStrat[str(i)] = round(s11_20192[s11_20192['stuSex']=='M'][str(i)].mean() - \\\n",
        "                           s11_20192[s11_20192['stuSex']=='F'][str(i)].mean(),3)\n",
        "  t, p = ttest_ind(s11_20192[s11_20192['stuSex']=='M'][str(i)],\n",
        "                   s11_20192[s11_20192['stuSex']=='F'][str(i)],\n",
        "                   equal_var=False)\n",
        "  print('Stratum '+str(stratCatdf.columns.get_loc(str(i))+1),\n",
        "        '\\t\\t\\tDifference:',difStrat[str(i)],'\\t t = %g \\t p = %g' % (t, p))\n",
        "print('--------------------------------------------------------------------------------')"
      ],
      "execution_count": 0,
      "outputs": [
        {
          "output_type": "stream",
          "text": [
            "T-test\n",
            "Family characteristics\n",
            "________________________________________________________________________________\n",
            "Father No Education \t\tDifference: -0.001 \t t = -2.00849 \t p = 0.0445913\n",
            "Father Primary Education \t\tDifference: -0.041 \t t = -32.6711 \t p = 7.00987e-234\n",
            "Father Secondary Education \t\tDifference: 0.027 \t t = 20.0394 \t p = 2.70679e-89\n",
            "Father Technical Education \t\tDifference: -0.003 \t t = -3.89897 \t p = 9.66145e-05\n",
            "Father Undergraduate Education \t\tDifference: 0.011 \t t = 12.4821 \t p = 9.46564e-36\n",
            "Father Postgraduate Education \t\tDifference: 0.003 \t t = 7.80571 \t p = 5.92845e-15\n",
            "Father No answer \t\tDifference: 0.002 \t t = 3.36994 \t p = 0.000751913\n",
            "--------------------------------------------------------------------------------\n",
            "Mother No Education \t\tDifference: -0.001 \t t = -1.74935 \t p = 0.0802308\n",
            "Mother Primary Education \t\tDifference: -0.039 \t t = -32.8153 \t p = 6.27956e-236\n",
            "Mother Secondary Education \t\tDifference: 0.022 \t t = 15.9576 \t p = 2.60442e-57\n",
            "Mother Technical Education \t\tDifference: -0.015 \t t = -16.4538 \t p = 8.1641e-61\n",
            "Mother Undergraduate Education \t\tDifference: 0.017 \t t = 18.4158 \t p = 1.04058e-75\n",
            "Mother Postgraduate Education \t\tDifference: 0.002 \t t = 4.13159 \t p = 3.60321e-05\n",
            "Mother No answer \t\tDifference: 0.01 \t t = 26.6172 \t p = 5.72301e-156\n",
            "--------------------------------------------------------------------------------\n",
            "Stratum 1 \t\t\tDifference: -0.051 \t t = -40.505 \t p = 0\n",
            "Stratum 2 \t\t\tDifference: 0.008 \t t = 5.88972 \t p = 3.87092e-09\n",
            "Stratum 3 \t\t\tDifference: 0.026 \t t = 23.5534 \t p = 1.35428e-122\n",
            "Stratum 4 \t\t\tDifference: 0.011 \t t = 18.619 \t p = 2.40112e-77\n",
            "Stratum 5 \t\t\tDifference: 0.003 \t t = 8.885 \t p = 6.41314e-19\n",
            "Stratum 6 \t\t\tDifference: 0.001 \t t = 2.81952 \t p = 0.0048097\n",
            "--------------------------------------------------------------------------------\n"
          ],
          "name": "stdout"
        }
      ]
    },
    {
      "cell_type": "markdown",
      "metadata": {
        "id": "kx3cyQuoIbaY",
        "colab_type": "text"
      },
      "source": [
        "#### *School characteristics*"
      ]
    },
    {
      "cell_type": "code",
      "metadata": {
        "id": "GKjHTZUCtpKC",
        "colab_type": "code",
        "outputId": "32d091eb-381b-4d2a-9270-c9f2b66e3130",
        "colab": {
          "base_uri": "https://localhost:8080/",
          "height": 173
        }
      },
      "source": [
        "#School characteristics\n",
        "print('T-test')\n",
        "print('School characteristics')\n",
        "print('________________________________________________________________________________')\n",
        "\n",
        "#School Funding\n",
        "sfundIndexdf = pd.DataFrame(s11_20192,\n",
        "                            columns= ['schoolFunding_cat_0',\n",
        "                                      'schoolFunding_cat_1'])\n",
        "\n",
        "sfundIndex = ['schoolFunding_cat_0','schoolFunding_cat_1']\n",
        "\n",
        "schoolfundingIndex = [sfundIndexdf.columns.get_loc(c) \\\n",
        "                      for c in sfundIndex if c in sfundIndexdf]\n",
        "schoolfundingIndex\n",
        "\n",
        "schFunNam = ['Private', 'Public']\n",
        "\n",
        "difsfund = {}\n",
        "for i, j in zip(sfundIndex, schFunNam):\n",
        "  difsfund[str(i)] = round(s11_20192[s11_20192['stuSex']=='M'][str(i)].mean() - \\\n",
        "                           s11_20192[s11_20192['stuSex']=='F'][str(i)].mean(),3)\n",
        "  t, p = ttest_ind(s11_20192[s11_20192['stuSex']=='M'][str(i)],\n",
        "                   s11_20192[s11_20192['stuSex']=='F'][str(i)],\n",
        "                   equal_var=False)\n",
        "  print(str(j),\n",
        "        '\\t\\tDifference:',difsfund[str(i)],'\\t t = %g \\t p = %g' % (t, p))\n",
        "print('--------------------------------------------------------------------------------')  \n",
        "\n",
        "\n",
        "#School area\n",
        "\n",
        "sareaIndexdf = pd.DataFrame(s11_20192,\n",
        "                            columns= ['schoolArea_cat_0','schoolArea_cat_1'])\n",
        "\n",
        "sareaIndex = ['schoolArea_cat_0','schoolArea_cat_1']\n",
        "\n",
        "schoolareaIndex = [sareaIndexdf.columns.get_loc(c)\\\n",
        "                   for c in sareaIndex if c in sareaIndexdf]\n",
        "schoolareaIndex\n",
        "\n",
        "schAreaNam = ['Rural', 'Urban']\n",
        "\n",
        "difsarea = {}\n",
        "for i, j in zip(sareaIndex, schAreaNam):\n",
        "  difsarea[str(i)] = round(s11_20192[s11_20192['stuSex']=='M'][str(i)].mean() - \\\n",
        "                           s11_20192[s11_20192['stuSex']=='F'][str(i)].mean(),3)\n",
        "  t, p = ttest_ind(s11_20192[s11_20192['stuSex']=='M'][str(i)],\n",
        "                   s11_20192[s11_20192['stuSex']=='F'][str(i)],\n",
        "                   equal_var=False)\n",
        "  print(str(j),\n",
        "        '\\t\\tDifference:',difsarea[str(i)],'\\t t = %g \\t p = %g' % (t, p))\n",
        "print('--------------------------------------------------------------------------------')  "
      ],
      "execution_count": 0,
      "outputs": [
        {
          "output_type": "stream",
          "text": [
            "T-test\n",
            "School characteristics\n",
            "________________________________________________________________________________\n",
            "Private \t\tDifference: 0.036 \t t = 30.9853 \t p = 1.3539e-210\n",
            "Public \t\tDifference: -0.036 \t t = -30.9853 \t p = 1.3539e-210\n",
            "--------------------------------------------------------------------------------\n",
            "Rural \t\tDifference: 0.006 \t t = 5.7584 \t p = 8.49625e-09\n",
            "Urban \t\tDifference: -0.006 \t t = -5.7584 \t p = 8.49625e-09\n",
            "--------------------------------------------------------------------------------\n"
          ],
          "name": "stdout"
        }
      ]
    },
    {
      "cell_type": "markdown",
      "metadata": {
        "id": "_51ifXP6zkRr",
        "colab_type": "text"
      },
      "source": [
        "### **KERNEL DISTRIBUTION**\n",
        "\n",
        "As the final descriptive analysis, we find the distribution’s kernels of Global, Math, Science and Reading scores. We observe similarities in the right side of the distribution for the four scores. However, the distribution for the Global Score, Math and Science show that the girls kernel is shifted to the left compared to the boys one. This behaviour is more evident for the middle and high part of the distribution in said subjects, which may imply that the education score gaps increases as the scores get higher.\n",
        "\n",
        "With regards to Reading, the distribution for both girls and boys shows no evident differences."
      ]
    },
    {
      "cell_type": "code",
      "metadata": {
        "id": "vbT5_jE8lo7f",
        "colab_type": "code",
        "outputId": "4654d1d6-dba3-416d-b8f4-e327a48f2879",
        "colab": {
          "base_uri": "https://localhost:8080/",
          "height": 644
        }
      },
      "source": [
        "#Kernel distributions: global score, reading, math and science\n",
        "\n",
        "#Global score\n",
        "sns.distplot(s11_20192.query('stuSex== \"F\"')['stuGlobalScore'],hist = False,\n",
        "             kde = True, kde_kws = {'linewidth': 3}, label='Girls', color = 'teal')\n",
        "sns.distplot(s11_20192.query('stuSex== \"M\"')['stuGlobalScore'], hist = False,\n",
        "             kde = True, kde_kws = {'linewidth': 3}, label='Boys', color = 'salmon')\n",
        "plt.legend()\n",
        "plt.xlabel('Global Score')\n",
        "plt.ylabel('Density')\n",
        "plt.title('Global Score')\n",
        "plt.show()\n",
        "\n",
        "#Reading\n",
        "plt.figure()\n",
        "plt.subplot(2, 2, 1)\n",
        "sns.distplot(s11_20192.query('stuSex== \"F\"')['readingScore'], hist = False,\n",
        "             kde = True, kde_kws = {'linewidth': 3}, color = 'teal')\n",
        "sns.distplot(s11_20192.query('stuSex== \"M\"')['readingScore'], hist = False,\n",
        "             kde = True, kde_kws = {'linewidth': 3}, color = 'salmon')\n",
        "plt.ylabel('Density')\n",
        "plt.title('Reading')\n",
        "\n",
        "\n",
        "#Math\n",
        "plt.subplot(2, 2, 2)\n",
        "sns.distplot(s11_20192.query('stuSex== \"F\"')['mathScore'], hist = False,\n",
        "             kde = True, kde_kws = {'linewidth': 3}, color = 'teal')\n",
        "sns.distplot(s11_20192.query('stuSex== \"M\"')['mathScore'], hist = False,\n",
        "             kde = True, kde_kws = {'linewidth': 3}, color = 'salmon')\n",
        "plt.title('Math')\n",
        "\n",
        "\n",
        "#Science\n",
        "plt.subplot(2, 2, 3)\n",
        "sns.distplot(s11_20192.query('stuSex== \"F\"')['scienceScore'], hist = False,\n",
        "             kde = True, kde_kws = {'linewidth': 3}, color = 'teal')\n",
        "sns.distplot(s11_20192.query('stuSex== \"M\"')['scienceScore'], hist = False,\n",
        "             kde = True, kde_kws = {'linewidth': 3}, color = 'salmon')\n",
        "plt.ylabel('Density')\n",
        "plt.title('Science')\n",
        "plt.subplots_adjust(top=1, bottom=0, left=0.10, right=0.95, hspace=0.6,\n",
        "                    wspace=0.35)\n",
        "plt.show()"
      ],
      "execution_count": 0,
      "outputs": [
        {
          "output_type": "display_data",
          "data": {
            "image/png": "[encoded data removed]",
            "text/plain": [
              "<Figure size 432x288 with 1 Axes>"
            ]
          },
          "metadata": {
            "tags": []
          }
        },
        {
          "output_type": "display_data",
          "data": {
            "image/png": "[encoded data removed]",
            "text/plain": [
              "<Figure size 432x288 with 3 Axes>"
            ]
          },
          "metadata": {
            "tags": []
          }
        }
      ]
    },
    {
      "cell_type": "markdown",
      "metadata": {
        "id": "mfCBBx3TIq8e",
        "colab_type": "text"
      },
      "source": [
        "### **EDUCATION GAP**\n",
        "\n",
        "The previous analysis suggests the existance of a gender gap in school performance among students in Colombia. Hence, the next step is to actually find this gap. To do so, we measured the difference in the average score between girls and boys.\n",
        "\n",
        "We also wanted to explore other variations in our dataset. Thus, a stratum and a school area gender eduation gap were calculated. For these measures, we clustered the data per stratum and per school area, respectively.  "
      ]
    },
    {
      "cell_type": "markdown",
      "metadata": {
        "id": "XbyRWn82r-e-",
        "colab_type": "text"
      },
      "source": [
        "#### *Gender Education Gap* \n",
        "\n",
        "First we calculate the gap in education performance among boys and girls. It is found that the biggest gap exists on the Global Score followed by Math.  "
      ]
    },
    {
      "cell_type": "code",
      "metadata": {
        "id": "y5x02sqMUCFP",
        "colab_type": "code",
        "outputId": "cf7fdb4c-dacd-46a6-88c6-77e0f91c6527",
        "colab": {
          "base_uri": "https://localhost:8080/",
          "height": 398
        }
      },
      "source": [
        "#Gender education gap\n",
        "globalScoreGap = s11_20192[s11_20192['stuSex']== 'M']['stuGlobalScore'].mean() -\\\n",
        "                  s11_20192[s11_20192['stuSex']== 'F']['stuGlobalScore'].mean()\n",
        "readingGap = s11_20192[s11_20192['stuSex']== 'M']['readingScore'].mean() - \\\n",
        "                  s11_20192[s11_20192['stuSex']== 'F']['readingScore'].mean()\n",
        "mathGap = s11_20192[s11_20192['stuSex']== 'M']['mathScore'].mean() - \\\n",
        "                  s11_20192[s11_20192['stuSex']== 'F']['mathScore'].mean()\n",
        "scienceGap = s11_20192[s11_20192['stuSex']== 'M']['scienceScore'].mean() - \\\n",
        "                  s11_20192[s11_20192['stuSex']== 'F']['scienceScore'].mean()\n",
        "\n",
        "print('Gender Education Gap (boys vs. girls): \\n ',\n",
        "      '\\n Global Score Gap:', round(globalScoreGap, 3),\n",
        "      '\\n Reading Gap:', round(readingGap,3),\n",
        "      '\\n Math Gap:', round(mathGap,3),\n",
        "      '\\n Science Gap:', round(scienceGap,3))\n",
        "\n",
        "# Plot on gender education gap\n",
        "objects = ('Global', 'Reading', 'Math', 'Science')\n",
        "y_pos = np.arange(len(objects))\n",
        "gaps = [globalScoreGap,readingGap,mathGap,scienceGap]\n",
        "\n",
        "plt.barh(y_pos, gaps, align='center', alpha=0.5, edgecolor='white')\n",
        "plt.yticks(y_pos, objects)\n",
        "plt.xlabel('Score Gap')\n",
        "plt.title('Gender Education Gap')\n",
        "\n",
        "plt.show()"
      ],
      "execution_count": 0,
      "outputs": [
        {
          "output_type": "stream",
          "text": [
            "Gender Education Gap (boys vs. girls): \n",
            "  \n",
            " Global Score Gap: 7.89 \n",
            " Reading Gap: 0.449 \n",
            " Math Gap: 3.411 \n",
            " Science Gap: 1.978\n"
          ],
          "name": "stdout"
        },
        {
          "output_type": "display_data",
          "data": {
            "image/png": "[encoded data removed]",
            "text/plain": [
              "<Figure size 432x288 with 1 Axes>"
            ]
          },
          "metadata": {
            "tags": []
          }
        }
      ]
    },
    {
      "cell_type": "markdown",
      "metadata": {
        "id": "qFUwcH58bmEt",
        "colab_type": "text"
      },
      "source": [
        "#### *Gender Education Gap per Stratum* \n",
        "\n",
        "As previously commented, the distribution of the socioeconomic stratification of Colombia is alarming. Such scenario made us wonder wheteher the gender education gap changes among boys and girls in different socioeconomic levels. We find that the largest gaps are found in the first and sixth stratums.  "
      ]
    },
    {
      "cell_type": "code",
      "metadata": {
        "id": "IcUuvBZM_E-g",
        "colab_type": "code",
        "outputId": "ed24334a-f70b-470f-cbae-5018574ddd57",
        "colab": {
          "base_uri": "https://localhost:8080/",
          "height": 953
        }
      },
      "source": [
        "#Gender education gap per stratum\n",
        "\n",
        "stratumGaps = {}\n",
        "\n",
        "for i in rangeStratCat :\n",
        "  stratumGaps['globalScoreGap_s{0}'.format(i+1)] = \\\n",
        "    s11_20192[(s11_20192['stuSex']== 'M') & (s11_20192['famHomeStratum']== 'Estrato '+str(i+1))]\\\n",
        "      ['stuGlobalScore'].mean() - \\\n",
        "    s11_20192[(s11_20192['stuSex']== 'F')& (s11_20192['famHomeStratum']== 'Estrato '+str(i+1))]\\\n",
        "      ['stuGlobalScore'].mean()\n",
        "  \n",
        "  stratumGaps['readingGap_s{0}'.format(i+1)] = \\\n",
        "    s11_20192[(s11_20192['stuSex']== 'M') & (s11_20192['famHomeStratum']== 'Estrato '+str(i+1))]\\\n",
        "      ['readingScore'].mean() - \\\n",
        "    s11_20192[(s11_20192['stuSex']== 'F')& (s11_20192['famHomeStratum']== 'Estrato '+str(i+1))]\\\n",
        "      ['readingScore'].mean()\n",
        "  \n",
        "  stratumGaps['mathGap_s{0}'.format(i+1)] = \\\n",
        "    s11_20192[(s11_20192['stuSex']== 'M') & (s11_20192['famHomeStratum']== 'Estrato '+str(i+1))]\\\n",
        "      ['mathScore'].mean() - \\\n",
        "    s11_20192[(s11_20192['stuSex']== 'F')& (s11_20192['famHomeStratum']== 'Estrato '+str(i+1))]\\\n",
        "      ['mathScore'].mean()\n",
        "  \n",
        "  stratumGaps['scienceGap_s{0}'.format(i+1)] = \\\n",
        "    s11_20192[(s11_20192['stuSex']== 'M') & (s11_20192['famHomeStratum']== 'Estrato '+str(i+1))]\\\n",
        "      ['scienceScore'].mean() - \\\n",
        "    s11_20192[(s11_20192['stuSex']== 'F')& (s11_20192['famHomeStratum']== 'Estrato '+str(i+1))]\\\n",
        "      ['scienceScore'].mean()\n",
        "\n",
        "print('Gender education gap per stratum (boys vs. girls): \\n')\n",
        "for i in range(0,6):\n",
        "  print('Stratum '+str(i+1)+':',\n",
        "        '\\n Global Score Gap:', round(stratumGaps['globalScoreGap_s'+str(i+1)],3),\n",
        "        '\\n Reading Gap:', round(stratumGaps['readingGap_s'+str(i+1)],3),\n",
        "        '\\n Math Gap:', round(stratumGaps['mathGap_s'+str(i+1)],3),\n",
        "        '\\n Science Gap:', round(stratumGaps['scienceGap_s'+str(i+1)],3), '\\n')\n",
        "  \n",
        "\n",
        "#Plot gender education gap per stratum\n",
        "#Data to plot\n",
        "barWidth= 0.25\n",
        "\n",
        "results_glob =(stratumGaps['globalScoreGap_s1'], stratumGaps['globalScoreGap_s2'],\n",
        "               stratumGaps['globalScoreGap_s3'], stratumGaps['globalScoreGap_s4'],\n",
        "               stratumGaps['globalScoreGap_s5'], stratumGaps['globalScoreGap_s6']) \n",
        "results_read = (stratumGaps['readingGap_s1'], stratumGaps['readingGap_s2'],\n",
        "                stratumGaps['readingGap_s3'], stratumGaps['readingGap_s4'],\n",
        "                stratumGaps['readingGap_s5'], stratumGaps['readingGap_s6'])\n",
        "results_math = (stratumGaps['mathGap_s1'], stratumGaps['mathGap_s2'],\n",
        "                stratumGaps['mathGap_s3'], stratumGaps['mathGap_s4'],\n",
        "                stratumGaps['mathGap_s5'], stratumGaps['mathGap_s6'])\n",
        "results_science = (stratumGaps['scienceGap_s1'], stratumGaps['scienceGap_s2'],\n",
        "                   stratumGaps['scienceGap_s3'], stratumGaps['scienceGap_s4'],\n",
        "                   stratumGaps['scienceGap_s5'], stratumGaps['scienceGap_s6'])\n",
        "\n",
        "r1= np.arange(len(results_glob))\n",
        "r2=[x+ barWidth for x in r1]\n",
        "r3= [x+ barWidth for x in r2]\n",
        "r4=[x+barWidth for x in r3]\n",
        "\n",
        "plt.bar(r1,results_glob,color='b',width=barWidth, edgecolor='white',\n",
        "        align='center', alpha=0.5, label= 'Global  Gap')\n",
        "plt.bar(r2,results_read,color='g',width=barWidth, edgecolor='white',\n",
        "        align='center', alpha=0.5, label= 'Reading Gap')\n",
        "plt.bar(r3,results_math,color='m',width=barWidth, edgecolor='white',\n",
        "        align='center',alpha=0.5, label= 'Math Gap')\n",
        "plt.bar(r4,results_science,color='y',width=barWidth, edgecolor='white',\n",
        "        align='center',alpha=0.5, label= 'Science Gap')\n",
        "\n",
        "#Label\n",
        "plt.xlabel('Stratum')\n",
        "plt.xticks([r + barWidth for r in range(len(results_glob))], ['1', '2', '3', '4', '5', '6'])\n",
        "plt.ylabel('Gap (boys vs. girls)')\n",
        "plt.title('Gap per Stratum', fontweight='bold')\n",
        " \n",
        "# Create legend & Show graphic\n",
        "plt.legend()\n",
        "plt.show()"
      ],
      "execution_count": 0,
      "outputs": [
        {
          "output_type": "stream",
          "text": [
            "Gender education gap per stratum (boys vs. girls): \n",
            "\n",
            "Stratum 1: \n",
            " Global Score Gap: 8.294 \n",
            " Reading Gap: 0.455 \n",
            " Math Gap: 3.662 \n",
            " Science Gap: 2.148 \n",
            "\n",
            "Stratum 2: \n",
            " Global Score Gap: 6.805 \n",
            " Reading Gap: 0.186 \n",
            " Math Gap: 3.223 \n",
            " Science Gap: 1.816 \n",
            "\n",
            "Stratum 3: \n",
            " Global Score Gap: 4.983 \n",
            " Reading Gap: -0.013 \n",
            " Math Gap: 2.706 \n",
            " Science Gap: 1.405 \n",
            "\n",
            "Stratum 4: \n",
            " Global Score Gap: 0.66 \n",
            " Reading Gap: -0.649 \n",
            " Math Gap: 1.778 \n",
            " Science Gap: 0.534 \n",
            "\n",
            "Stratum 5: \n",
            " Global Score Gap: 4.093 \n",
            " Reading Gap: -0.101 \n",
            " Math Gap: 2.399 \n",
            " Science Gap: 1.036 \n",
            "\n",
            "Stratum 6: \n",
            " Global Score Gap: 9.415 \n",
            " Reading Gap: 1.06 \n",
            " Math Gap: 3.415 \n",
            " Science Gap: 1.715 \n",
            "\n"
          ],
          "name": "stdout"
        },
        {
          "output_type": "display_data",
          "data": {
            "image/png": "[encoded data removed]",
            "text/plain": [
              "<Figure size 432x288 with 1 Axes>"
            ]
          },
          "metadata": {
            "tags": []
          }
        }
      ]
    },
    {
      "cell_type": "markdown",
      "metadata": {
        "id": "uP5CsrHerW8J",
        "colab_type": "text"
      },
      "source": [
        "#### *Gender Education Gap per School Area* \n",
        "\n",
        "Next, we also explore whether the gap varies depending on where the school is located. We find that all gaps are larger in urban areas than in rural ones."
      ]
    },
    {
      "cell_type": "code",
      "metadata": {
        "id": "5qgNUlf6I6kd",
        "colab_type": "code",
        "outputId": "b491dec9-2a70-4f0b-def6-ceca4390ae72",
        "colab": {
          "base_uri": "https://localhost:8080/",
          "height": 537
        }
      },
      "source": [
        "#Gap rural\n",
        "globalScoreGap_rural = \\\n",
        "  s11_20192[(s11_20192['stuSex']== 'M') & (s11_20192['schoolArea']== 'RURAL')]\\\n",
        "    ['stuGlobalScore'].mean() - \\\n",
        "  s11_20192[(s11_20192['stuSex']== 'F') & (s11_20192['schoolArea']== 'RURAL')]\\\n",
        "    ['stuGlobalScore'].mean()\n",
        "\n",
        "readingGap_rural = \\\n",
        "  s11_20192[(s11_20192['stuSex']== 'M') & (s11_20192['schoolArea']== 'RURAL')]\\\n",
        "    ['readingScore'].mean() - \\\n",
        "  s11_20192[(s11_20192['stuSex']== 'F') & (s11_20192['schoolArea']== 'RURAL')]\\\n",
        "    ['readingScore'].mean()\n",
        "\n",
        "mathGap_rural = \\\n",
        "  s11_20192[(s11_20192['stuSex']== 'M') & (s11_20192['schoolArea']== 'RURAL')]\\\n",
        "    ['mathScore'].mean() - \\\n",
        "  s11_20192[(s11_20192['stuSex']== 'F') & (s11_20192['schoolArea']== 'RURAL')]\\\n",
        "    ['mathScore'].mean()\n",
        "\n",
        "scienceGap_rural = \\\n",
        "  s11_20192[(s11_20192['stuSex']== 'M') & (s11_20192['schoolArea']== 'RURAL')]\\\n",
        "    ['scienceScore'].mean() - \\\n",
        "  s11_20192[(s11_20192['stuSex']== 'F') & (s11_20192['schoolArea']== 'RURAL')]\\\n",
        "    ['scienceScore'].mean()\n",
        "\n",
        "#Gap urban\n",
        "globalScoreGap_urban = \\\n",
        "  s11_20192[(s11_20192['stuSex']== 'M') & (s11_20192['schoolArea']== 'URBANO')]\\\n",
        "    ['stuGlobalScore'].mean() - \\\n",
        "  s11_20192[(s11_20192['stuSex']== 'F') & (s11_20192['schoolArea']== 'URBANO')]\\\n",
        "    ['stuGlobalScore'].mean()\n",
        "\n",
        "readingGap_urban = \\\n",
        "  s11_20192[(s11_20192['stuSex']== 'M') & (s11_20192['schoolArea']== 'URBANO')]\\\n",
        "    ['readingScore'].mean() - \\\n",
        "  s11_20192[(s11_20192['stuSex']== 'F') & (s11_20192['schoolArea']== 'URBANO')]\\\n",
        "    ['readingScore'].mean()\n",
        "\n",
        "mathGap_urban = \\\n",
        "  s11_20192[(s11_20192['stuSex']== 'M') & (s11_20192['schoolArea']== 'URBANO')]\\\n",
        "    ['mathScore'].mean() - \\\n",
        "  s11_20192[(s11_20192['stuSex']== 'F') & (s11_20192['schoolArea']== 'URBANO')]\\\n",
        "    ['mathScore'].mean()\n",
        "\n",
        "scienceGap_urban = \\\n",
        "  s11_20192[(s11_20192['stuSex']== 'M') & (s11_20192['schoolArea']== 'URBANO')]\\\n",
        "    ['scienceScore'].mean() - \\\n",
        "  s11_20192[(s11_20192['stuSex']== 'F') & (s11_20192['schoolArea']== 'URBANO')]\\\n",
        "    ['scienceScore'].mean()\n",
        "\n",
        "print('Gender education gap per school area (boys vs. girls): \\n')\n",
        "print('Rural area:',\n",
        "      '\\n Global Score Gap:', round(globalScoreGap_rural, 3),\n",
        "      '\\n Reading Gap:', round(readingGap_rural,3),\n",
        "      '\\n Math Gap:', round(mathGap_rural,3),\n",
        "      '\\n Science Gap:', round(scienceGap_rural,3), '\\n')\n",
        "\n",
        "print('Urban area:',\n",
        "      '\\n Global Score Gap:', round(globalScoreGap_urban, 3),\n",
        "      '\\n Reading Gap:', round(readingGap_urban,3),\n",
        "      '\\n Math Gap:', round(mathGap_urban,3),\n",
        "      '\\n Science Gap:', round(scienceGap_urban,3), '\\n')\n",
        "\n",
        "#Data to plot\n",
        "barWidth= 0.25\n",
        "\n",
        "results_glob1 =(globalScoreGap_rural,globalScoreGap_urban)\n",
        "results_read1 = (readingGap_rural ,readingGap_urban)\n",
        "results_math1 = (mathGap_rural,mathGap_urban)\n",
        "results_science1 = (scienceGap_rural,scienceGap_urban)\n",
        "\n",
        "r11= np.arange(len(results_glob1))\n",
        "r22=[x+ barWidth for x in r11]\n",
        "r33= [x+ barWidth for x in r22]\n",
        "r44=[x+barWidth for x in r33]\n",
        "\n",
        "plt.bar(r11,results_glob1,color='b',width=barWidth, edgecolor='white', alpha=0.5, label= 'Global  Gap')\n",
        "plt.bar(r22,results_read1,color='g',width=barWidth, edgecolor='white',alpha=0.5, label= 'Reading Gap')\n",
        "plt.bar(r33,results_math1,color='m',width=barWidth, edgecolor='white',alpha=0.5, label= 'Math Gap')\n",
        "plt.bar(r44,results_science1,color='y',width=barWidth, edgecolor='white',alpha=0.5, label= 'Science Gap')\n",
        "\n",
        "\n",
        "#Label\n",
        "plt.xlabel('School Area', fontweight='bold')\n",
        "plt.xticks([r + barWidth for r in range(len(results_glob1))], ['Rural', 'Urban'])\n",
        "plt.ylabel('Gap (boys vs. girls)')\n",
        "plt.title('Global Score Gap per School Area', fontweight='bold')\n",
        " \n",
        "# Create legend & Show graphic\n",
        "plt.legend()\n",
        "plt.show()\n",
        "\n"
      ],
      "execution_count": 0,
      "outputs": [
        {
          "output_type": "stream",
          "text": [
            "Gender education gap per school area (boys vs. girls): \n",
            "\n",
            "Rural area: \n",
            " Global Score Gap: 6.218 \n",
            " Reading Gap: 0.182 \n",
            " Math Gap: 3.08 \n",
            " Science Gap: 1.684 \n",
            "\n",
            "Urban area: \n",
            " Global Score Gap: 8.373 \n",
            " Reading Gap: 0.533 \n",
            " Math Gap: 3.507 \n",
            " Science Gap: 2.062 \n",
            "\n"
          ],
          "name": "stdout"
        },
        {
          "output_type": "display_data",
          "data": {
            "image/png": "[encoded data removed]",
            "text/plain": [
              "<Figure size 432x288 with 1 Axes>"
            ]
          },
          "metadata": {
            "tags": []
          }
        }
      ]
    },
    {
      "cell_type": "markdown",
      "metadata": {
        "id": "HsV6JZteEahj",
        "colab_type": "text"
      },
      "source": [
        "### **REGRESSION ANALYSIS**\n",
        "Finally, the regression analysis will check for a significant relation between the students' sex and his/her score. The regression equation is formulated as follows: \n",
        "\n",
        "$ Score_{i} = \\beta_{0}+ \\beta_1Gender_{i} + \\beta_{2} \\overline{P}_{i} + \\beta_{3} \\overline{F}_{i} +\\beta_{4}\\overline{S}_{i} + \\epsilon_{i} $\n",
        "\n",
        "Starting from the LHS of the equation, $ Score_{i}$ stands as the student's score on each of the four subjects that are part of the present analysis. Jumping into the RHS of the equation we define $Gender$ as the student's sex. $ \\beta_{1} $ shows the gap in scores between boys and girls with similar observable characterisitcs. Hence, it is the parameter of interest of study. $ \\overline{P}_{i} $, $ \\overline{F}_{i} $ and $ \\overline{S}_{i} $ are vectors gathering student's personal, familiar and scholar characteristics, respectively. They serve as control variables for the study. Finally, $ \\epsilon_{i} $ is the error term.\n",
        "\n",
        "In order to confirm our previous analysis and to find a gender education gap in favour of boys, we expect $ \\beta_{1} $ to be positive and significant. This is due to the bicategorical condition of $Gender$ and the inclusion of the Male category in the regression. \n"
      ]
    },
    {
      "cell_type": "markdown",
      "metadata": {
        "id": "MwlVHma90sbR",
        "colab_type": "text"
      },
      "source": [
        "#### *OLS Regression*\n",
        "\n",
        "The OLS regression allows us to study the average gender gap for the sample of study. In the following we show its results.\n",
        "\n",
        "For all specifications, $\\beta_{1}$ is positive and significant at 1% level. Taken as example the Math score, it is found that boys scored on average 3.7 points more than girls with similar observable characteristics. As the descriptive analysis showed, the biggest gap is found at the Global Score with a difference of 8.7 points meanwhile the smallest is at Reading score with a gap of 0.55 points. \n",
        "\n",
        "With regards to controls, they are all significant at 1% level across all specifications and is most of the cases they count with the expected signs. Higher levels of parent’s education and higher socioeconomic stratums are related with higher scores. At the same time students living in urban areas or attending to private schools are expected to score higher results than students in rural areas or public schools. However, given the multiple categorical nature of the data no further implications can be derived from it. \n"
      ]
    },
    {
      "cell_type": "code",
      "metadata": {
        "colab_type": "code",
        "id": "6ehDBRcnfaLm",
        "colab": {}
      },
      "source": [
        "#Create square of age\n",
        "s11_20192['stuAge_sq']=s11_20192['stuAge']**2\n",
        "\n",
        "#OLS regression\n",
        "print('==================================================================================================')\n",
        "print('Global Score')\n",
        "print('==================================================================================================')\n",
        "ols_1 =smf.ols('stuGlobalScore ~C(stuSex)+stuAge+stuAge_sq+\\\n",
        "                C(schoolArea)+C(schoolFunding)+C(famHomeStratum)+\\\n",
        "                F_Primary+F_Secondary+F_Technical+F_Undergraduate+F_Postgraduate+F_NoAnswer+\\\n",
        "                M_Primary+M_Secondary+M_Technical+M_Undergraduate+M_Postgraduate+M_NoAnswer',\n",
        "               data=s11_20192).fit()\n",
        "print(ols_1.summary())\n",
        "\n",
        "print('\\n\\n')\n",
        "print('==================================================================================================')\n",
        "print('Reading Score')\n",
        "print('==================================================================================================')\n",
        "ols_2 =smf.ols('readingScore ~C(stuSex)+stuAge+stuAge_sq+\\\n",
        "                C(schoolArea)+C(schoolFunding)+C(famHomeStratum)+\\\n",
        "                F_Primary+F_Secondary+F_Technical+F_Undergraduate+F_Postgraduate+F_NoAnswer+\\\n",
        "                M_Primary+M_Secondary+M_Technical+M_Undergraduate+M_Postgraduate+M_NoAnswer',\n",
        "               data=s11_20192).fit()\n",
        "print(ols_2.summary())\n",
        "print('\\n\\n')\n",
        "print('==================================================================================================')\n",
        "print('Math Score')\n",
        "print('==================================================================================================')\n",
        "\n",
        "ols_3 =smf.ols('mathScore ~C(stuSex)+stuAge+stuAge_sq+\\\n",
        "                C(schoolArea)+C(schoolFunding)+C(famHomeStratum)+\\\n",
        "                F_Primary+F_Secondary+F_Technical+F_Undergraduate+F_Postgraduate+F_NoAnswer+\\\n",
        "                M_Primary+M_Secondary+M_Technical+M_Undergraduate+M_Postgraduate+M_NoAnswer',\n",
        "               data=s11_20192).fit()\n",
        "print(ols_3.summary())  \n",
        "\n",
        "print('\\n\\n')\n",
        "print('==================================================================================================')\n",
        "print('Science Score')\n",
        "print('==================================================================================================')\n",
        "\n",
        "ols_4 =smf.ols('scienceScore ~C(stuSex)+stuAge+stuAge_sq+\\\n",
        "                C(schoolArea)+C(schoolFunding)+C(famHomeStratum)+\\\n",
        "                F_Primary+F_Secondary+F_Technical+F_Undergraduate+F_Postgraduate+F_NoAnswer+\\\n",
        "                M_Primary+M_Secondary+M_Technical+M_Undergraduate+M_Postgraduate+M_NoAnswer',\n",
        "               data=s11_20192).fit()\n",
        "print(ols_4.summary())  \n"
      ],
      "execution_count": 0,
      "outputs": []
    },
    {
      "cell_type": "markdown",
      "metadata": {
        "id": "VzI_rEswGDmH",
        "colab_type": "text"
      },
      "source": [
        "As a final step, we wanted to find the size effect of $\\beta_{1}$ in each one of the specifications. The results show a small size effect of the $Gender$ variable for every subject score."
      ]
    },
    {
      "cell_type": "code",
      "metadata": {
        "id": "viQP-s1IeK8T",
        "colab_type": "code",
        "outputId": "5286ad01-c68d-40e4-84ac-3dc71cb307f4",
        "colab": {
          "base_uri": "https://localhost:8080/",
          "height": 121
        }
      },
      "source": [
        "#Size of effect\n",
        "\n",
        "print('Gender size effect - OLS:')\n",
        "print('---------------------------')\n",
        "#Global Score\n",
        "ols1_beta = pd.read_html(ols_1.summary().tables[1].as_html(),header=0,index_col=0)[0]\n",
        "b1=ols1_beta['coef'].values[1]\n",
        "b1 = b1.astype('float')\n",
        "print('Global Score:\\t',round(b1/s11_20192['stuGlobalScore'].mean(),2))\n",
        "\n",
        "#Reading\n",
        "ols1_beta = pd.read_html(ols_2.summary().tables[1].as_html(),header=0,index_col=0)[0]\n",
        "b1=ols1_beta['coef'].values[1]\n",
        "b1 = b1.astype('float')\n",
        "print('Reading Score:\\t',round(b1/s11_20192['readingScore'].mean(),2))\n",
        "\n",
        "#Math\n",
        "ols1_beta = pd.read_html(ols_3.summary().tables[1].as_html(),header=0,index_col=0)[0]\n",
        "b1=ols1_beta['coef'].values[1]\n",
        "b1 = b1.astype('float')\n",
        "print('Math Score:\\t',round(b1/s11_20192['mathScore'].mean(),2))\n",
        "\n",
        "#Science\n",
        "ols1_beta = pd.read_html(ols_4.summary().tables[1].as_html(),header=0,index_col=0)[0]\n",
        "b1=ols1_beta['coef'].values[1]\n",
        "b1 = b1.astype('float')\n",
        "print('Science Score:\\t',round(b1/s11_20192['scienceScore'].mean(),2))\n",
        "\n"
      ],
      "execution_count": 0,
      "outputs": [
        {
          "output_type": "stream",
          "text": [
            "Gender size effect - OLS:\n",
            "---------------------------\n",
            "Global Score:\t 0.04\n",
            "Reading Score:\t 0.01\n",
            "Math Score:\t 0.07\n",
            "Science Score:\t 0.04\n"
          ],
          "name": "stdout"
        }
      ]
    },
    {
      "cell_type": "markdown",
      "metadata": {
        "id": "0CXHSjV3011A",
        "colab_type": "text"
      },
      "source": [
        "#### *Quantile Regression*\n",
        "The quantile regression allows us to study the gender gap across different quantiles of the score distribution. More specifically, it shows the impact of gender on scores at different points of its conditional distribution. In comparison with an OLS approach, it provides a more robust estimator in case of observations far away from the distribution which are usual in large datasets as the present (Abadía and Bernal, 2016).\n",
        "\n",
        "In our case of study, we have only included Global Score as a regressor and we have chosen the 20th, 40th, 60th, 80th and 95th quantiles for the analysis. \n",
        "\n",
        "Looking at the results, similar conclusions are derived as in the OLS regression: gender’s estimator is positive and significant at all points of the distribution and controls remain significant and with the same signs. However, the size of the effect i.e. the gender gap increases with the quantiles. \n"
      ]
    },
    {
      "cell_type": "code",
      "metadata": {
        "id": "qW0rVZcjW3uJ",
        "colab_type": "code",
        "outputId": "481a90e3-f5a4-4ba8-b6ca-86e8b3ffd086",
        "colab": {
          "base_uri": "https://localhost:8080/",
          "height": 1000
        }
      },
      "source": [
        "#QUANTILE REGRESSION\n",
        "print('==================================================================================================')\n",
        "print('Quantil 20')\n",
        "print('==================================================================================================')\n",
        "q20_1= smf.quantreg('stuGlobalScore ~C(stuSex)+stuAge+stuAge_sq+\\\n",
        "                    C(schoolArea)+C(schoolFunding)+C(famHomeStratum)+\\\n",
        "                    F_Primary+F_Secondary+F_Technical+F_Undergraduate+F_Postgraduate+F_NoAnswer+\\\n",
        "                    M_Primary+M_Secondary+M_Technical+M_Undergraduate+M_Postgraduate+M_NoAnswer',\n",
        "                    data=s11_20192)\n",
        "res_q201 = q20_1.fit(q=.2)\n",
        "print(res_q201.summary())\n",
        "\n",
        "print('\\n\\n')\n",
        "print('==================================================================================================')\n",
        "print('Quantil 40')\n",
        "print('==================================================================================================')\n",
        "q40_1= smf.quantreg('stuGlobalScore ~C(stuSex)+stuAge+stuAge_sq+\\\n",
        "                    C(schoolArea)+C(schoolFunding)+C(famHomeStratum)+\\\n",
        "                    F_Primary+F_Secondary+F_Technical+F_Undergraduate+F_Postgraduate+F_NoAnswer+\\\n",
        "                    M_Primary+M_Secondary+M_Technical+M_Undergraduate+M_Postgraduate+M_NoAnswer',\n",
        "                    data=s11_20192)\n",
        "res_q401 = q40_1.fit(q=.4)\n",
        "print(res_q401.summary())\n",
        "\n",
        "print('\\n\\n')\n",
        "print('==================================================================================================')\n",
        "print('Quantil 60')\n",
        "print('==================================================================================================')\n",
        "q60_1= smf.quantreg('stuGlobalScore ~C(stuSex)+stuAge+stuAge_sq+\\\n",
        "                    C(schoolArea)+C(schoolFunding)+C(famHomeStratum)+\\\n",
        "                    F_Primary+F_Secondary+F_Technical+F_Undergraduate+F_Postgraduate+F_NoAnswer+\\\n",
        "                    M_Primary+M_Secondary+M_Technical+M_Undergraduate+M_Postgraduate+M_NoAnswer', \n",
        "                    data=s11_20192)\n",
        "res_q601 = q60_1.fit(q=.6)\n",
        "print(res_q601.summary())\n",
        "\n",
        "print('\\n\\n')\n",
        "print('==================================================================================================')\n",
        "print('Quantil 80')\n",
        "print('==================================================================================================')\n",
        "q80_1= smf.quantreg('stuGlobalScore ~C(stuSex)+stuAge+stuAge_sq+\\\n",
        "                    C(schoolArea)+C(schoolFunding)+C(famHomeStratum)+\\\n",
        "                    F_Primary+F_Secondary+F_Technical+F_Undergraduate+F_Postgraduate+F_NoAnswer+\\\n",
        "                    M_Primary+M_Secondary+M_Technical+M_Undergraduate+M_Postgraduate+M_NoAnswer',\n",
        "                    data=s11_20192)\n",
        "res_q801 = q80_1.fit(q=.8)\n",
        "print(res_q801.summary())\n",
        "\n",
        "print('\\n\\n')\n",
        "print('==================================================================================================')\n",
        "print('Quantil 95')\n",
        "print('==================================================================================================')\n",
        "q95_1= smf.quantreg('stuGlobalScore ~C(stuSex)+stuAge+stuAge_sq+\\\n",
        "                    C(schoolArea)+C(schoolFunding)+C(famHomeStratum)+\\\n",
        "                    F_Primary+F_Secondary+F_Technical+F_Undergraduate+F_Postgraduate+F_NoAnswer+\\\n",
        "                    M_Primary+M_Secondary+M_Technical+M_Undergraduate+M_Postgraduate+M_NoAnswer',\n",
        "                    data=s11_20192)\n",
        "res_q951 = q95_1.fit(q=.95)\n",
        "print(res_q951.summary())"
      ],
      "execution_count": 0,
      "outputs": [
        {
          "output_type": "stream",
          "text": [
            "                         QuantReg Regression Results                          \n",
            "==============================================================================\n",
            "Dep. Variable:         stuGlobalScore   Pseudo R-squared:               0.1003\n",
            "Model:                       QuantReg   Bandwidth:                       2.481\n",
            "Method:                 Least Squares   Sparsity:                        151.6\n",
            "Date:                Wed, 15 Jan 2020   No. Observations:               472570\n",
            "Time:                        13:14:29   Df Residuals:                   472547\n",
            "                                        Df Model:                           22\n",
            "==================================================================================================\n",
            "                                     coef    std err          t      P>|t|      [0.025      0.975]\n",
            "--------------------------------------------------------------------------------------------------\n",
            "Intercept                        321.4054     16.179     19.865      0.000     289.695     353.116\n",
            "C(stuSex)[T.M]                     5.8919      0.179     32.944      0.000       5.541       6.242\n",
            "C(schoolArea)[T.URBANO]           10.3243      0.261     39.529      0.000       9.812      10.836\n",
            "C(schoolFunding)[T.OFICIAL]       -6.3514      0.245    -25.906      0.000      -6.832      -5.871\n",
            "C(famHomeStratum)[T.Estrato 2]     4.4324      0.219     20.207      0.000       4.003       4.862\n",
            "C(famHomeStratum)[T.Estrato 3]     5.6757      0.271     20.929      0.000       5.144       6.207\n",
            "C(famHomeStratum)[T.Estrato 4]    -1.2162      0.464     -2.621      0.009      -2.126      -0.307\n",
            "C(famHomeStratum)[T.Estrato 5]    -6.6757      0.747     -8.936      0.000      -8.140      -5.211\n",
            "C(famHomeStratum)[T.Estrato 6]   -18.8649      1.062    -17.771      0.000     -20.945     -16.784\n",
            "stuAge                            -6.9189      1.824     -3.793      0.000     -10.494      -3.344\n",
            "stuAge_sq                         -0.0811      0.051     -1.583      0.113      -0.181       0.019\n",
            "F_Primary                          5.1622      0.452     11.427      0.000       4.277       6.048\n",
            "F_Secondary                        6.5946      0.454     14.526      0.000       5.705       7.484\n",
            "F_Technical                       16.5946      0.528     31.400      0.000      15.559      17.630\n",
            "F_Undergraduate                   18.9459      0.534     35.497      0.000      17.900      19.992\n",
            "F_Postgraduate                    45.8378      0.837     54.741      0.000      44.197      47.479\n",
            "F_NoAnswer                        12.0270      0.562     21.393      0.000      10.925      13.129\n",
            "M_Primary                          8.5135      0.644     13.225      0.000       7.252       9.775\n",
            "M_Secondary                       12.4054      0.645     19.246      0.000      11.142      13.669\n",
            "M_Technical                       24.7027      0.683     36.188      0.000      23.365      26.041\n",
            "M_Undergraduate                   26.7027      0.702     38.056      0.000      25.327      28.078\n",
            "M_Postgraduate                    50.8108      0.925     54.921      0.000      48.998      52.624\n",
            "M_NoAnswer                         8.3243      0.936      8.895      0.000       6.490      10.159\n",
            "==================================================================================================\n",
            "\n",
            "The condition number is large, 5.61e+04. This might indicate that there are\n",
            "strong multicollinearity or other numerical problems.\n",
            "                         QuantReg Regression Results                          \n",
            "==============================================================================\n",
            "Dep. Variable:         stuGlobalScore   Pseudo R-squared:               0.1218\n",
            "Model:                       QuantReg   Bandwidth:                       2.835\n",
            "Method:                 Least Squares   Sparsity:                        118.5\n",
            "Date:                Wed, 15 Jan 2020   No. Observations:               472570\n",
            "Time:                        13:15:14   Df Residuals:                   472547\n",
            "                                        Df Model:                           22\n",
            "==================================================================================================\n",
            "                                     coef    std err          t      P>|t|      [0.025      0.975]\n",
            "--------------------------------------------------------------------------------------------------\n",
            "Intercept                        296.7778     15.498     19.149      0.000     266.402     327.153\n",
            "C(stuSex)[T.M]                     8.5556      0.171     49.993      0.000       8.220       8.891\n",
            "C(schoolArea)[T.URBANO]           12.0000      0.249     48.136      0.000      11.511      12.489\n",
            "C(schoolFunding)[T.OFICIAL]       -9.5000      0.226    -42.117      0.000      -9.942      -9.058\n",
            "C(famHomeStratum)[T.Estrato 2]     4.7778      0.208     22.923      0.000       4.369       5.186\n",
            "C(famHomeStratum)[T.Estrato 3]     6.7778      0.254     26.725      0.000       6.281       7.275\n",
            "C(famHomeStratum)[T.Estrato 4]     3.3889      0.431      7.870      0.000       2.545       4.233\n",
            "C(famHomeStratum)[T.Estrato 5]    -1.8889      0.704     -2.682      0.007      -3.269      -0.509\n",
            "C(famHomeStratum)[T.Estrato 6]   -13.1667      1.010    -13.036      0.000     -15.146     -11.187\n",
            "stuAge                            -0.2500      1.751     -0.143      0.886      -3.682       3.182\n",
            "stuAge_sq                         -0.3056      0.049     -6.196      0.000      -0.402      -0.209\n",
            "F_Primary                          4.5556      0.432     10.541      0.000       3.709       5.403\n",
            "F_Secondary                        6.7222      0.433     15.512      0.000       5.873       7.572\n",
            "F_Technical                       18.1667      0.505     35.957      0.000      17.176      19.157\n",
            "F_Undergraduate                   22.1111      0.506     43.712      0.000      21.120      23.103\n",
            "F_Postgraduate                    46.6667      0.800     58.336      0.000      45.099      48.235\n",
            "F_NoAnswer                        12.7778      0.539     23.695      0.000      11.721      13.835\n",
            "M_Primary                          9.0556      0.615     14.719      0.000       7.850      10.261\n",
            "M_Secondary                       14.2222      0.614     23.151      0.000      13.018      15.426\n",
            "M_Technical                       26.7778      0.651     41.160      0.000      25.503      28.053\n",
            "M_Undergraduate                   31.2222      0.665     46.937      0.000      29.918      32.526\n",
            "M_Postgraduate                    53.2222      0.882     60.336      0.000      51.493      54.951\n",
            "M_NoAnswer                        13.5000      0.898     15.038      0.000      11.740      15.260\n",
            "==================================================================================================\n",
            "\n",
            "The condition number is large, 5.61e+04. This might indicate that there are\n",
            "strong multicollinearity or other numerical problems.\n",
            "                         QuantReg Regression Results                          \n",
            "==============================================================================\n",
            "Dep. Variable:         stuGlobalScore   Pseudo R-squared:               0.1366\n",
            "Model:                       QuantReg   Bandwidth:                       2.821\n",
            "Method:                 Least Squares   Sparsity:                        121.7\n",
            "Date:                Wed, 15 Jan 2020   No. Observations:               472570\n",
            "Time:                        13:17:21   Df Residuals:                   472547\n",
            "                                        Df Model:                           22\n",
            "==================================================================================================\n",
            "                                     coef    std err          t      P>|t|      [0.025      0.975]\n",
            "--------------------------------------------------------------------------------------------------\n",
            "Intercept                        268.2499     15.995     16.771      0.000     236.900     299.600\n",
            "C(stuSex)[T.M]                    10.5000      0.176     59.709      0.000      10.155      10.845\n",
            "C(schoolArea)[T.URBANO]           12.7500      0.256     49.748      0.000      12.248      13.252\n",
            "C(schoolFunding)[T.OFICIAL]      -10.5000      0.225    -46.704      0.000     -10.941     -10.059\n",
            "C(famHomeStratum)[T.Estrato 2]     5.0000      0.213     23.482      0.000       4.583       5.417\n",
            "C(famHomeStratum)[T.Estrato 3]     7.2500      0.256     28.277      0.000       6.747       7.753\n",
            "C(famHomeStratum)[T.Estrato 4]     7.5000      0.431     17.398      0.000       6.655       8.345\n",
            "C(famHomeStratum)[T.Estrato 5]     6.0000      0.714      8.408      0.000       4.601       7.399\n",
            "C(famHomeStratum)[T.Estrato 6]    -3.5000      1.030     -3.398      0.001      -5.519      -1.481\n",
            "stuAge                             6.0000      1.811      3.312      0.001       2.450       9.550\n",
            "stuAge_sq                         -0.5000      0.051     -9.776      0.000      -0.600      -0.400\n",
            "F_Primary                          4.0000      0.444      9.000      0.000       3.129       4.871\n",
            "F_Secondary                        6.7500      0.446     15.145      0.000       5.876       7.624\n",
            "F_Technical                       18.0000      0.520     34.585      0.000      16.980      19.020\n",
            "F_Undergraduate                   23.0000      0.518     44.411      0.000      21.985      24.015\n",
            "F_Postgraduate                    43.5000      0.829     52.472      0.000      41.875      45.125\n",
            "F_NoAnswer                        12.5000      0.555     22.522      0.000      11.412      13.588\n",
            "M_Primary                          9.7500      0.632     15.416      0.000       8.510      10.990\n",
            "M_Secondary                       16.0000      0.631     25.361      0.000      14.763      17.236\n",
            "M_Technical                       28.0000      0.669     41.881      0.000      26.690      29.310\n",
            "M_Undergraduate                   34.0000      0.681     49.932      0.000      32.665      35.335\n",
            "M_Postgraduate                    52.2500      0.912     57.323      0.000      50.463      54.036\n",
            "M_NoAnswer                        19.2500      0.923     20.862      0.000      17.441      21.058\n",
            "==================================================================================================\n",
            "\n",
            "The condition number is large, 5.61e+04. This might indicate that there are\n",
            "strong multicollinearity or other numerical problems.\n",
            "                         QuantReg Regression Results                          \n",
            "==============================================================================\n",
            "Dep. Variable:         stuGlobalScore   Pseudo R-squared:               0.1466\n",
            "Model:                       QuantReg   Bandwidth:                       2.443\n",
            "Method:                 Least Squares   Sparsity:                        164.1\n",
            "Date:                Wed, 15 Jan 2020   No. Observations:               472570\n",
            "Time:                        13:19:17   Df Residuals:                   472547\n",
            "                                        Df Model:                           22\n",
            "==================================================================================================\n",
            "                                     coef    std err          t      P>|t|      [0.025      0.975]\n",
            "--------------------------------------------------------------------------------------------------\n",
            "Intercept                        231.4367     17.719     13.061      0.000     196.708     266.166\n",
            "C(stuSex)[T.M]                    12.0486      0.194     62.193      0.000      11.669      12.428\n",
            "C(schoolArea)[T.URBANO]           12.6505      0.284     44.579      0.000      12.094      13.207\n",
            "C(schoolFunding)[T.OFICIAL]      -10.9514      0.242    -45.317      0.000     -11.425     -10.478\n",
            "C(famHomeStratum)[T.Estrato 2]     4.8058      0.234     20.562      0.000       4.348       5.264\n",
            "C(famHomeStratum)[T.Estrato 3]     7.8544      0.280     28.094      0.000       7.306       8.402\n",
            "C(famHomeStratum)[T.Estrato 4]    10.3495      0.465     22.270      0.000       9.439      11.260\n",
            "C(famHomeStratum)[T.Estrato 5]    11.3107      0.777     14.551      0.000       9.787      12.834\n",
            "C(famHomeStratum)[T.Estrato 6]     4.4563      1.126      3.959      0.000       2.250       6.662\n",
            "stuAge                            13.6020      2.012      6.759      0.000       9.658      17.546\n",
            "stuAge_sq                         -0.7184      0.057    -12.610      0.000      -0.830      -0.607\n",
            "F_Primary                          1.8058      0.490      3.687      0.000       0.846       2.766\n",
            "F_Secondary                        5.1554      0.493     10.463      0.000       4.190       6.121\n",
            "F_Technical                       15.5049      0.577     26.893      0.000      14.375      16.635\n",
            "F_Undergraduate                   20.5534      0.571     35.983      0.000      19.434      21.673\n",
            "F_Postgraduate                    35.9903      0.926     38.875      0.000      34.176      37.805\n",
            "F_NoAnswer                         9.9029      0.612     16.179      0.000       8.703      11.103\n",
            "M_Primary                          9.3010      0.697     13.336      0.000       7.934      10.668\n",
            "M_Secondary                       16.2524      0.697     23.334      0.000      14.887      17.618\n",
            "M_Technical                       27.2524      0.739     36.870      0.000      25.804      28.701\n",
            "M_Undergraduate                   33.7961      0.751     45.005      0.000      32.324      35.268\n",
            "M_Postgraduate                    48.4078      1.016     47.637      0.000      46.416      50.400\n",
            "M_NoAnswer                        21.4563      1.016     21.123      0.000      19.465      23.447\n",
            "==================================================================================================\n",
            "\n",
            "The condition number is large, 5.61e+04. This might indicate that there are\n",
            "strong multicollinearity or other numerical problems.\n",
            "                         QuantReg Regression Results                          \n",
            "==============================================================================\n",
            "Dep. Variable:         stuGlobalScore   Pseudo R-squared:               0.1474\n",
            "Model:                       QuantReg   Bandwidth:                       2.481\n",
            "Method:                 Least Squares   Sparsity:                        401.3\n",
            "Date:                Wed, 15 Jan 2020   No. Observations:               472570\n",
            "Time:                        13:20:07   Df Residuals:                   472547\n",
            "                                        Df Model:                           22\n",
            "==================================================================================================\n",
            "                                     coef    std err          t      P>|t|      [0.025      0.975]\n",
            "--------------------------------------------------------------------------------------------------\n",
            "Intercept                        244.6311     24.030     10.180      0.000     197.533     291.729\n",
            "C(stuSex)[T.M]                    12.4669      0.258     48.248      0.000      11.960      12.973\n",
            "C(schoolArea)[T.URBANO]           11.1326      0.382     29.155      0.000      10.384      11.881\n",
            "C(schoolFunding)[T.OFICIAL]      -10.9769      0.319    -34.404      0.000     -11.602     -10.352\n",
            "C(famHomeStratum)[T.Estrato 2]     4.3573      0.312     13.976      0.000       3.746       4.968\n",
            "C(famHomeStratum)[T.Estrato 3]     6.9942      0.373     18.744      0.000       6.263       7.726\n",
            "C(famHomeStratum)[T.Estrato 4]    11.9308      0.612     19.484      0.000      10.731      13.131\n",
            "C(famHomeStratum)[T.Estrato 5]    13.3660      1.028     13.006      0.000      11.352      15.380\n",
            "C(famHomeStratum)[T.Estrato 6]    12.6974      1.494      8.499      0.000       9.769      15.626\n",
            "stuAge                            16.2925      2.740      5.945      0.000      10.921      21.664\n",
            "stuAge_sq                         -0.7767      0.078     -9.974      0.000      -0.929      -0.624\n",
            "F_Primary                         -0.7695      0.655     -1.175      0.240      -2.053       0.514\n",
            "F_Secondary                        3.8963      0.663      5.879      0.000       2.597       5.195\n",
            "F_Technical                       12.2017      0.777     15.697      0.000      10.678      13.725\n",
            "F_Undergraduate                   16.8156      0.769     21.877      0.000      15.309      18.322\n",
            "F_Postgraduate                    28.9193      1.246     23.203      0.000      26.476      31.362\n",
            "F_NoAnswer                         6.6945      0.817      8.189      0.000       5.092       8.297\n",
            "M_Primary                          6.7983      0.933      7.286      0.000       4.969       8.627\n",
            "M_Secondary                       13.3314      0.935     14.261      0.000      11.499      15.164\n",
            "M_Technical                       22.0000      0.994     22.137      0.000      20.052      23.948\n",
            "M_Undergraduate                   27.9597      1.008     27.726      0.000      25.983      29.936\n",
            "M_Postgraduate                    40.3372      1.366     29.523      0.000      37.659      43.015\n",
            "M_NoAnswer                        18.7176      1.353     13.838      0.000      16.066      21.369\n",
            "==================================================================================================\n",
            "\n",
            "The condition number is large, 5.61e+04. This might indicate that there are\n",
            "strong multicollinearity or other numerical problems.\n"
          ],
          "name": "stdout"
        }
      ]
    },
    {
      "cell_type": "markdown",
      "metadata": {
        "id": "AxyDfTkvK68b",
        "colab_type": "text"
      },
      "source": [
        "# Discussion and conclusion\n",
        "\n",
        "Colombian education system has recently taken a new challenge: to turn Colombia into the best educated country all along Latin America. The present study has questioned its progress and had a look at gender differences at school level performance. Previous studies (Abadia and Bernal, 2016) already found disparities among boys and girls at older cohorts. Thus, we wonder whether they could be still identified nowadays.  \n",
        "\n",
        "Unfortunately, a gender gap in school performance has been found across four different scores in Saber 11 results. Additionally, socioeconomic, familiar and scholar characteristics have been found to explain part of this variation. We have also found that the gap increases the further we look into score’s distribution, suggesting that girls are more affected from gender inequalities.\n",
        "\n",
        "However, in the development of this project some flaws are identified as regressions might suffer from multicollinearity problems.\n",
        "\n"
      ]
    },
    {
      "cell_type": "markdown",
      "metadata": {
        "id": "oFpCDzDwQ0wT",
        "colab_type": "text"
      },
      "source": [
        "# Bibliography\n",
        "\n",
        "Abadía, L. K., & Bernal, G. (2017). ¿ Una brecha que se amplía? Un análisis de la brecha de género en las pruebas de salida del colegio en Colombia. Revista de Economía del Rosario, 20(1), 28.\n",
        "\n",
        "Hanushek, E. A. (1979). Conceptual and empirical issues in the estimation of educational production functions. Journal of human Resources, 351-388.\n",
        "\n",
        "Icfes (2019). Guía de orientación Saber 11º 2019-2 [PDF File]. Retrieved from: https://www.icfes.gov.co/documents/20143/193560/Guia+de+orientacion+de+saber+11-2019+-+2.pdf/8e305a8c-61fb-411e-4a2d-1fc4abe1f520"
      ]
    }
  ]
}